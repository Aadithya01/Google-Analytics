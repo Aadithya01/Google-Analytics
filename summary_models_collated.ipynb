{
 "cells": [
  {
   "cell_type": "code",
   "execution_count": 1,
   "metadata": {
    "colab": {},
    "colab_type": "code",
    "id": "IcVKiYI6xdXg"
   },
   "outputs": [],
   "source": [
    "import pandas as pd\n",
    "from sklearn.model_selection import train_test_split\n",
    "from sklearn.metrics import roc_curve, roc_auc_score, f1_score\n",
    "from sklearn.ensemble import RandomForestClassifier\n",
    "from sklearn.ensemble import RandomForestRegressor\n",
    "from sklearn.linear_model import LogisticRegression, LinearRegression, Lasso\n",
    "from sklearn.model_selection import GridSearchCV\n",
    "\n",
    "import numpy as np\n",
    "import matplotlib.pyplot as plt\n",
    "from sklearn.metrics import f1_score\n",
    "from sklearn.metrics import roc_auc_score\n",
    "from sklearn.metrics import classification_report\n",
    "from pandas import Series, DataFrame\n",
    "from sklearn.metrics import confusion_matrix\n",
    "from sklearn.metrics import mean_squared_error\n",
    "from sklearn.metrics import f1_score,recall_score\n",
    "from sklearn.metrics import roc_curve\n",
    "from sklearn.metrics import auc\n",
    "from sklearn.metrics import mean_squared_error\n",
    "import seaborn as sns\n",
    "import xgboost as xgb"
   ]
  },
  {
   "cell_type": "code",
   "execution_count": 2,
   "metadata": {
    "colab": {
     "base_uri": "https://localhost:8080/",
     "height": 361
    },
    "colab_type": "code",
    "executionInfo": {
     "elapsed": 1523,
     "status": "ok",
     "timestamp": 1576268188545,
     "user": {
      "displayName": "Khyathi Balusu",
      "photoUrl": "",
      "userId": "16107378939378587927"
     },
     "user_tz": 360
    },
    "id": "N7e7vA57FnlC",
    "outputId": "fd6d7dcc-a9d4-4004-eb05-76e106e9ba36"
   },
   "outputs": [
    {
     "data": {
      "text/html": [
       "<div>\n",
       "<style scoped>\n",
       "    .dataframe tbody tr th:only-of-type {\n",
       "        vertical-align: middle;\n",
       "    }\n",
       "\n",
       "    .dataframe tbody tr th {\n",
       "        vertical-align: top;\n",
       "    }\n",
       "\n",
       "    .dataframe thead th {\n",
       "        text-align: right;\n",
       "    }\n",
       "</style>\n",
       "<table border=\"1\" class=\"dataframe\">\n",
       "  <thead>\n",
       "    <tr style=\"text-align: right;\">\n",
       "      <th></th>\n",
       "      <th>Date</th>\n",
       "      <th>Sum of User</th>\n",
       "      <th>Sum of Pageview</th>\n",
       "      <th>Sum of Session</th>\n",
       "      <th>Average of BounceRate</th>\n",
       "      <th>Sum of UniquePageview</th>\n",
       "      <th>Average of ExitRate</th>\n",
       "      <th>Sum of OrganicSearch</th>\n",
       "      <th>Sum of Conversions</th>\n",
       "      <th>Y variable</th>\n",
       "      <th>...</th>\n",
       "      <th>Google</th>\n",
       "      <th>Googleads</th>\n",
       "      <th>360</th>\n",
       "      <th>ND</th>\n",
       "      <th>Others</th>\n",
       "      <th>Ref A</th>\n",
       "      <th>Ref R</th>\n",
       "      <th>Yahoo</th>\n",
       "      <th>Youtube</th>\n",
       "      <th>ZG</th>\n",
       "    </tr>\n",
       "  </thead>\n",
       "  <tbody>\n",
       "    <tr>\n",
       "      <th>0</th>\n",
       "      <td>1-Jun</td>\n",
       "      <td>15</td>\n",
       "      <td>16</td>\n",
       "      <td>4</td>\n",
       "      <td>11.538462</td>\n",
       "      <td>15</td>\n",
       "      <td>19.230769</td>\n",
       "      <td>1</td>\n",
       "      <td>0</td>\n",
       "      <td>0</td>\n",
       "      <td>...</td>\n",
       "      <td>11</td>\n",
       "      <td>0</td>\n",
       "      <td>0</td>\n",
       "      <td>0</td>\n",
       "      <td>0</td>\n",
       "      <td>0</td>\n",
       "      <td>0</td>\n",
       "      <td>0</td>\n",
       "      <td>0</td>\n",
       "      <td>0</td>\n",
       "    </tr>\n",
       "    <tr>\n",
       "      <th>1</th>\n",
       "      <td>2-Jun</td>\n",
       "      <td>23</td>\n",
       "      <td>41</td>\n",
       "      <td>10</td>\n",
       "      <td>20.714286</td>\n",
       "      <td>23</td>\n",
       "      <td>26.275510</td>\n",
       "      <td>1</td>\n",
       "      <td>0</td>\n",
       "      <td>0</td>\n",
       "      <td>...</td>\n",
       "      <td>1</td>\n",
       "      <td>0</td>\n",
       "      <td>0</td>\n",
       "      <td>0</td>\n",
       "      <td>0</td>\n",
       "      <td>1</td>\n",
       "      <td>0</td>\n",
       "      <td>0</td>\n",
       "      <td>0</td>\n",
       "      <td>0</td>\n",
       "    </tr>\n",
       "    <tr>\n",
       "      <th>2</th>\n",
       "      <td>3-Jun</td>\n",
       "      <td>370</td>\n",
       "      <td>569</td>\n",
       "      <td>142</td>\n",
       "      <td>7.323703</td>\n",
       "      <td>408</td>\n",
       "      <td>28.680262</td>\n",
       "      <td>23</td>\n",
       "      <td>2</td>\n",
       "      <td>0</td>\n",
       "      <td>...</td>\n",
       "      <td>55</td>\n",
       "      <td>0</td>\n",
       "      <td>0</td>\n",
       "      <td>0</td>\n",
       "      <td>3</td>\n",
       "      <td>181</td>\n",
       "      <td>0</td>\n",
       "      <td>3</td>\n",
       "      <td>0</td>\n",
       "      <td>0</td>\n",
       "    </tr>\n",
       "    <tr>\n",
       "      <th>3</th>\n",
       "      <td>4-Jun</td>\n",
       "      <td>588</td>\n",
       "      <td>817</td>\n",
       "      <td>215</td>\n",
       "      <td>10.221046</td>\n",
       "      <td>648</td>\n",
       "      <td>31.313901</td>\n",
       "      <td>39</td>\n",
       "      <td>3</td>\n",
       "      <td>0</td>\n",
       "      <td>...</td>\n",
       "      <td>128</td>\n",
       "      <td>0</td>\n",
       "      <td>0</td>\n",
       "      <td>0</td>\n",
       "      <td>3</td>\n",
       "      <td>254</td>\n",
       "      <td>0</td>\n",
       "      <td>2</td>\n",
       "      <td>0</td>\n",
       "      <td>0</td>\n",
       "    </tr>\n",
       "    <tr>\n",
       "      <th>4</th>\n",
       "      <td>5-Jun</td>\n",
       "      <td>396</td>\n",
       "      <td>530</td>\n",
       "      <td>170</td>\n",
       "      <td>10.426934</td>\n",
       "      <td>436</td>\n",
       "      <td>36.726891</td>\n",
       "      <td>26</td>\n",
       "      <td>2</td>\n",
       "      <td>0</td>\n",
       "      <td>...</td>\n",
       "      <td>119</td>\n",
       "      <td>0</td>\n",
       "      <td>0</td>\n",
       "      <td>0</td>\n",
       "      <td>1</td>\n",
       "      <td>117</td>\n",
       "      <td>0</td>\n",
       "      <td>3</td>\n",
       "      <td>0</td>\n",
       "      <td>0</td>\n",
       "    </tr>\n",
       "  </tbody>\n",
       "</table>\n",
       "<p>5 rows × 38 columns</p>\n",
       "</div>"
      ],
      "text/plain": [
       "    Date  Sum of User  Sum of Pageview  Sum of Session  Average of BounceRate  \\\n",
       "0  1-Jun           15               16               4              11.538462   \n",
       "1  2-Jun           23               41              10              20.714286   \n",
       "2  3-Jun          370              569             142               7.323703   \n",
       "3  4-Jun          588              817             215              10.221046   \n",
       "4  5-Jun          396              530             170              10.426934   \n",
       "\n",
       "   Sum of UniquePageview  Average of ExitRate  Sum of OrganicSearch  \\\n",
       "0                     15            19.230769                     1   \n",
       "1                     23            26.275510                     1   \n",
       "2                    408            28.680262                    23   \n",
       "3                    648            31.313901                    39   \n",
       "4                    436            36.726891                    26   \n",
       "\n",
       "   Sum of Conversions  Y variable  ...  Google  Googleads 360  ND  Others  \\\n",
       "0                   0           0  ...      11          0   0   0       0   \n",
       "1                   0           0  ...       1          0   0   0       0   \n",
       "2                   2           0  ...      55          0   0   0       3   \n",
       "3                   3           0  ...     128          0   0   0       3   \n",
       "4                   2           0  ...     119          0   0   0       1   \n",
       "\n",
       "  Ref A  Ref R  Yahoo  Youtube  ZG  \n",
       "0     0      0      0        0   0  \n",
       "1     1      0      0        0   0  \n",
       "2   181      0      3        0   0  \n",
       "3   254      0      2        0   0  \n",
       "4   117      0      3        0   0  \n",
       "\n",
       "[5 rows x 38 columns]"
      ]
     },
     "execution_count": 2,
     "metadata": {},
     "output_type": "execute_result"
    }
   ],
   "source": [
    "df = pd.read_csv(\"apm_data_cont_v3_11_21_changed.csv\") #day wise data\n",
    "df.dropna().head()"
   ]
  },
  {
   "cell_type": "markdown",
   "metadata": {
    "colab_type": "text",
    "id": "aVx9TkGAF0F0"
   },
   "source": [
    "Converting \"sum of conversions\" to % conversions and further to categorical y-variable"
   ]
  },
  {
   "cell_type": "code",
   "execution_count": 5,
   "metadata": {
    "colab": {},
    "colab_type": "code",
    "id": "0cGC4hQ8Fng6"
   },
   "outputs": [],
   "source": [
    "df['% of conv']=df['Sum of Conversions']/df['Sum of User']\n",
    "df['y_var']=np.where(df['% of conv']>df['% of conv'].mean(),1,0)\n",
    "for i in range(16,37):\n",
    "    df[df.columns[i]]=df[df.columns[i]]/df['Sum of User']"
   ]
  },
  {
   "cell_type": "markdown",
   "metadata": {
    "colab_type": "text",
    "id": "wSpfmWBsGNC2"
   },
   "source": [
    "Dropping columns with high correlation"
   ]
  },
  {
   "cell_type": "code",
   "execution_count": 6,
   "metadata": {
    "colab": {},
    "colab_type": "code",
    "id": "I1a7eWIDFneS"
   },
   "outputs": [],
   "source": [
    "df1=df.drop(['Date','Y variable','Sum of Conversions','Sum of UniquePageview','Year', 'Sum of User','Day of Week','Month','Day','% of conv','Average of BounceRate','Sum of Pageview'],axis=1)\n",
    "#df1.columns.values\n",
    "#sns.heatmap(df1.corr(),cmap=\"YlGnBu\")"
   ]
  },
  {
   "cell_type": "markdown",
   "metadata": {
    "colab_type": "text",
    "id": "YoBXOlUSGp72"
   },
   "source": [
    "Spliting into train and test set"
   ]
  },
  {
   "cell_type": "code",
   "execution_count": 8,
   "metadata": {
    "colab": {},
    "colab_type": "code",
    "id": "SrFR1prrFnam"
   },
   "outputs": [],
   "source": [
    "#df1=pd.get_dummies(df1,drop_first=True)\n",
    "X = df1.drop(columns='y_var')\n",
    "y = df1['y_var']\n",
    "X_train, X_test, y_train, y_test = train_test_split(X,y,test_size=0.3, random_state=42)"
   ]
  },
  {
   "cell_type": "code",
   "execution_count": 9,
   "metadata": {
    "colab": {
     "base_uri": "https://localhost:8080/",
     "height": 69
    },
    "colab_type": "code",
    "executionInfo": {
     "elapsed": 1473,
     "status": "ok",
     "timestamp": 1576268188558,
     "user": {
      "displayName": "Khyathi Balusu",
      "photoUrl": "",
      "userId": "16107378939378587927"
     },
     "user_tz": 360
    },
    "id": "Yt-AdWtlFnYD",
    "outputId": "e08681bd-b983-4c85-db90-9382243b5ed4"
   },
   "outputs": [
    {
     "data": {
      "text/plain": [
       "1    77\n",
       "0    76\n",
       "Name: y_var, dtype: int64"
      ]
     },
     "execution_count": 9,
     "metadata": {},
     "output_type": "execute_result"
    }
   ],
   "source": [
    "y.value_counts()   # It is a balanced class problem."
   ]
  },
  {
   "cell_type": "markdown",
   "metadata": {
    "colab_type": "text",
    "id": "m6yRqytOHIW4"
   },
   "source": [
    "#Logistic Regression"
   ]
  },
  {
   "cell_type": "code",
   "execution_count": 10,
   "metadata": {
    "colab": {
     "base_uri": "https://localhost:8080/",
     "height": 107
    },
    "colab_type": "code",
    "executionInfo": {
     "elapsed": 1455,
     "status": "ok",
     "timestamp": 1576268188561,
     "user": {
      "displayName": "Khyathi Balusu",
      "photoUrl": "",
      "userId": "16107378939378587927"
     },
     "user_tz": 360
    },
    "id": "S0MGR1DeFnVM",
    "outputId": "9fcca8f0-1ed6-4786-ac92-9c02b0037756"
   },
   "outputs": [
    {
     "name": "stderr",
     "output_type": "stream",
     "text": [
      "C:\\Users\\aadia\\Anaconda3\\lib\\site-packages\\sklearn\\linear_model\\logistic.py:432: FutureWarning: Default solver will be changed to 'lbfgs' in 0.22. Specify a solver to silence this warning.\n",
      "  FutureWarning)\n",
      "C:\\Users\\aadia\\Anaconda3\\lib\\site-packages\\sklearn\\linear_model\\logistic.py:432: FutureWarning: Default solver will be changed to 'lbfgs' in 0.22. Specify a solver to silence this warning.\n",
      "  FutureWarning)\n"
     ]
    }
   ],
   "source": [
    "model = LogisticRegression(random_state=42)  # default logistic regression model\n",
    "model_reg = LogisticRegression(random_state=42,penalty='l1') #logistic regression with penalty\n",
    "\n",
    "#fitting the models\n",
    "model.fit(X_train,y_train)\n",
    "model_reg.fit(X_train,y_train)\n",
    "\n",
    "#prediction on train\n",
    "y_pred_prob_tr = model.predict_proba(X_train)\n",
    "y_pred_prob_reg_tr = model_reg.predict_proba(X_train)\n",
    "\n",
    "#prediction on test\n",
    "y_pred_prob = model.predict_proba(X_test)\n",
    "y_pred_prob_reg = model_reg.predict_proba(X_test)"
   ]
  },
  {
   "cell_type": "code",
   "execution_count": 11,
   "metadata": {
    "colab": {},
    "colab_type": "code",
    "id": "5Fn_9x9jFnNi"
   },
   "outputs": [],
   "source": [
    "mythreshold = 0.4\n",
    "\n",
    "#train\n",
    "y_pred1_tr = model.predict(X_train)                     #threshold = 0.5\n",
    "y_pred1_tr_thres = np.where(y_pred_prob_tr[:,1]>mythreshold,1,0)   #threshold = 0.4\n",
    "\n",
    "\n",
    "y_pred_tr = model_reg.predict(X_train)                     \n",
    "y_pred_tr_thres = np.where(y_pred_prob_reg_tr[:,1]>mythreshold,1,0)   \n",
    "\n",
    "\n",
    "\n",
    "#test\n",
    "y_pred1 = model.predict(X_test)                     #threshold = 0.5\n",
    "y_pred1_thres = np.where(y_pred_prob[:,1]>mythreshold,1,0)   #threshold = 0.4\n",
    "\n",
    "\n",
    "y_pred = model_reg.predict(X_test)                    \n",
    "y_pred_thres = np.where(y_pred_prob_reg[:,1]>mythreshold,1,0)   \n",
    "\n"
   ]
  },
  {
   "cell_type": "code",
   "execution_count": 12,
   "metadata": {
    "colab": {
     "base_uri": "https://localhost:8080/",
     "height": 953
    },
    "colab_type": "code",
    "executionInfo": {
     "elapsed": 1637,
     "status": "ok",
     "timestamp": 1576268188780,
     "user": {
      "displayName": "Khyathi Balusu",
      "photoUrl": "",
      "userId": "16107378939378587927"
     },
     "user_tz": 360
    },
    "id": "3X_EMxXRufYP",
    "outputId": "e59efa7c-540c-450d-9c20-3a82f89e01d9"
   },
   "outputs": [
    {
     "name": "stdout",
     "output_type": "stream",
     "text": [
      "--------------------------------normal model with default threshold---------------------------------------\n",
      "Classification report for normal model with default threshold - train\n",
      "F1 Score:  0.6551724137931035\n",
      "AUROC:  0.679020979020979\n",
      "\n",
      "              precision    recall  f1-score   support\n",
      "\n",
      "           0       0.63      0.56      0.59        52\n",
      "           1       0.62      0.69      0.66        55\n",
      "\n",
      "    accuracy                           0.63       107\n",
      "   macro avg       0.63      0.62      0.62       107\n",
      "weighted avg       0.63      0.63      0.62       107\n",
      "\n",
      "Classification report for normal model with default threshold - test\n",
      "F1 Score:  0.6086956521739131\n",
      "AUROC:  0.6401515151515151\n",
      "\n",
      "              precision    recall  f1-score   support\n",
      "\n",
      "           0       0.64      0.58      0.61        24\n",
      "           1       0.58      0.64      0.61        22\n",
      "\n",
      "    accuracy                           0.61        46\n",
      "   macro avg       0.61      0.61      0.61        46\n",
      "weighted avg       0.61      0.61      0.61        46\n",
      "\n",
      "--------------------------------normal model with changed threshold---------------------------------------\n",
      "Classification report for normal model with changed threshold - train\n",
      "F1 Score:  0.6906474820143884\n",
      "AUROC:  0.679020979020979\n",
      "\n",
      "              precision    recall  f1-score   support\n",
      "\n",
      "           0       0.70      0.31      0.43        52\n",
      "           1       0.57      0.87      0.69        55\n",
      "\n",
      "    accuracy                           0.60       107\n",
      "   macro avg       0.63      0.59      0.56       107\n",
      "weighted avg       0.63      0.60      0.56       107\n",
      "\n",
      "Classification report for normal model with changed threshold - test\n",
      "F1 Score:  0.6071428571428571\n",
      "AUROC:  0.6401515151515151\n",
      "\n",
      "              precision    recall  f1-score   support\n",
      "\n",
      "           0       0.58      0.29      0.39        24\n",
      "           1       0.50      0.77      0.61        22\n",
      "\n",
      "    accuracy                           0.52        46\n",
      "   macro avg       0.54      0.53      0.50        46\n",
      "weighted avg       0.54      0.52      0.49        46\n",
      "\n"
     ]
    }
   ],
   "source": [
    "print('--------------------------------normal model with default threshold---------------------------------------')\n",
    "\n",
    "#train\n",
    "print(\"Classification report for normal model with default threshold - train\")\n",
    "print(\"F1 Score: \", f1_score(y_train, y_pred1_tr))\n",
    "print(\"AUROC: \", roc_auc_score(y_train, y_pred_prob_tr[:,1]))\n",
    "print()\n",
    "print(classification_report(y_train, y_pred1_tr))\n",
    "\n",
    "\n",
    "\n",
    "#test\n",
    "print(\"Classification report for normal model with default threshold - test\")\n",
    "print(\"F1 Score: \", f1_score(y_test, y_pred1))\n",
    "print(\"AUROC: \", roc_auc_score(y_test, y_pred_prob[:,1]))\n",
    "print()\n",
    "print(classification_report(y_test, y_pred1))\n",
    "\n",
    "\n",
    "print('--------------------------------normal model with changed threshold---------------------------------------')\n",
    "#train\n",
    "print(\"Classification report for normal model with changed threshold - train\")\n",
    "print(\"F1 Score: \", f1_score(y_train, y_pred1_tr_thres))\n",
    "print(\"AUROC: \", roc_auc_score(y_train, y_pred_prob_tr[:,1]))\n",
    "print()\n",
    "print(classification_report(y_train, y_pred1_tr_thres))\n",
    "\n",
    "#test\n",
    "print(\"Classification report for normal model with changed threshold - test\")\n",
    "print(\"F1 Score: \", f1_score(y_test, y_pred1_thres))\n",
    "print(\"AUROC: \", roc_auc_score(y_test, y_pred_prob[:,1]))\n",
    "print()\n",
    "print(classification_report(y_test, y_pred1_thres))\n",
    "\n",
    "\n"
   ]
  },
  {
   "cell_type": "code",
   "execution_count": 13,
   "metadata": {
    "colab": {
     "base_uri": "https://localhost:8080/",
     "height": 953
    },
    "colab_type": "code",
    "executionInfo": {
     "elapsed": 1618,
     "status": "ok",
     "timestamp": 1576268188782,
     "user": {
      "displayName": "Khyathi Balusu",
      "photoUrl": "",
      "userId": "16107378939378587927"
     },
     "user_tz": 360
    },
    "id": "LZRAwXdAujc3",
    "outputId": "9f5bd614-b7dd-4b40-de82-ef6aa49ff3a5"
   },
   "outputs": [
    {
     "name": "stdout",
     "output_type": "stream",
     "text": [
      "--------------------------------regularized model with default threshold---------------------------------------\n",
      "Classification report for regularized model with default threshold - train\n",
      "F1 Score:  0.6551724137931035\n",
      "AUROC:  0.6800699300699301\n",
      "\n",
      "              precision    recall  f1-score   support\n",
      "\n",
      "           0       0.63      0.56      0.59        52\n",
      "           1       0.62      0.69      0.66        55\n",
      "\n",
      "    accuracy                           0.63       107\n",
      "   macro avg       0.63      0.62      0.62       107\n",
      "weighted avg       0.63      0.63      0.62       107\n",
      "\n",
      "Classification report for regularized model with default threshold - test\n",
      "F1 Score:  0.6086956521739131\n",
      "AUROC:  0.6458333333333334\n",
      "\n",
      "              precision    recall  f1-score   support\n",
      "\n",
      "           0       0.64      0.58      0.61        24\n",
      "           1       0.58      0.64      0.61        22\n",
      "\n",
      "    accuracy                           0.61        46\n",
      "   macro avg       0.61      0.61      0.61        46\n",
      "weighted avg       0.61      0.61      0.61        46\n",
      "\n",
      "--------------------------------regularised model with changed threshold---------------------------------------\n",
      "Classification report for regularised model with changed threshold - train\n",
      "F1 Score:  0.6906474820143884\n",
      "AUROC:  0.6800699300699301\n",
      "\n",
      "              precision    recall  f1-score   support\n",
      "\n",
      "           0       0.70      0.31      0.43        52\n",
      "           1       0.57      0.87      0.69        55\n",
      "\n",
      "    accuracy                           0.60       107\n",
      "   macro avg       0.63      0.59      0.56       107\n",
      "weighted avg       0.63      0.60      0.56       107\n",
      "\n",
      "Classification report for regularised model with changed threshold - test\n",
      "F1 Score:  0.6071428571428571\n",
      "AUROC:  0.6458333333333334\n",
      "\n",
      "              precision    recall  f1-score   support\n",
      "\n",
      "           0       0.58      0.29      0.39        24\n",
      "           1       0.50      0.77      0.61        22\n",
      "\n",
      "    accuracy                           0.52        46\n",
      "   macro avg       0.54      0.53      0.50        46\n",
      "weighted avg       0.54      0.52      0.49        46\n",
      "\n"
     ]
    }
   ],
   "source": [
    "print('--------------------------------regularized model with default threshold---------------------------------------')\n",
    "#train\n",
    "print(\"Classification report for regularized model with default threshold - train\")\n",
    "print(\"F1 Score: \", f1_score(y_train, y_pred_tr))\n",
    "print(\"AUROC: \", roc_auc_score(y_train, y_pred_prob_reg_tr[:,1]))\n",
    "print()\n",
    "print(classification_report(y_train, y_pred_tr))\n",
    "\n",
    "#test\n",
    "print(\"Classification report for regularized model with default threshold - test\")\n",
    "print(\"F1 Score: \", f1_score(y_test, y_pred))\n",
    "print(\"AUROC: \", roc_auc_score(y_test, y_pred_prob_reg[:,1]))\n",
    "print()\n",
    "print(classification_report(y_test, y_pred))\n",
    "\n",
    "print('--------------------------------regularised model with changed threshold---------------------------------------')\n",
    "#train\n",
    "print(\"Classification report for regularised model with changed threshold - train\")\n",
    "print(\"F1 Score: \", f1_score(y_train, y_pred_tr_thres))\n",
    "print(\"AUROC: \", roc_auc_score(y_train, y_pred_prob_reg_tr[:,1]))\n",
    "print()\n",
    "print(classification_report(y_train, y_pred_tr_thres))\n",
    "\n",
    "#Test\n",
    "print(\"Classification report for regularised model with changed threshold - test\")\n",
    "print(\"F1 Score: \", f1_score(y_test, y_pred_thres))\n",
    "print(\"AUROC: \", roc_auc_score(y_test, y_pred_prob_reg[:,1]))\n",
    "print()\n",
    "print(classification_report(y_test, y_pred_thres))\n"
   ]
  },
  {
   "cell_type": "markdown",
   "metadata": {
    "colab_type": "text",
    "id": "hbWz0Q11u3RW"
   },
   "source": [
    "The default model is the best - the AUCROC for train and test are very similar. The confusion matrix for the model is below."
   ]
  },
  {
   "cell_type": "code",
   "execution_count": 14,
   "metadata": {
    "colab": {
     "base_uri": "https://localhost:8080/",
     "height": 127
    },
    "colab_type": "code",
    "executionInfo": {
     "elapsed": 1600,
     "status": "ok",
     "timestamp": 1576268188784,
     "user": {
      "displayName": "Khyathi Balusu",
      "photoUrl": "",
      "userId": "16107378939378587927"
     },
     "user_tz": 360
    },
    "id": "v3PAzzJFurM3",
    "outputId": "d5dd6ceb-1529-415b-ab7a-c221522937f6"
   },
   "outputs": [
    {
     "name": "stdout",
     "output_type": "stream",
     "text": [
      "Confusion matrix when threshold is default = 0.5\n"
     ]
    },
    {
     "data": {
      "text/html": [
       "<div>\n",
       "<style scoped>\n",
       "    .dataframe tbody tr th:only-of-type {\n",
       "        vertical-align: middle;\n",
       "    }\n",
       "\n",
       "    .dataframe tbody tr th {\n",
       "        vertical-align: top;\n",
       "    }\n",
       "\n",
       "    .dataframe thead th {\n",
       "        text-align: right;\n",
       "    }\n",
       "</style>\n",
       "<table border=\"1\" class=\"dataframe\">\n",
       "  <thead>\n",
       "    <tr style=\"text-align: right;\">\n",
       "      <th></th>\n",
       "      <th>pred(neg)</th>\n",
       "      <th>pred(pos)</th>\n",
       "    </tr>\n",
       "  </thead>\n",
       "  <tbody>\n",
       "    <tr>\n",
       "      <th>0</th>\n",
       "      <td>14</td>\n",
       "      <td>10</td>\n",
       "    </tr>\n",
       "    <tr>\n",
       "      <th>1</th>\n",
       "      <td>8</td>\n",
       "      <td>14</td>\n",
       "    </tr>\n",
       "  </tbody>\n",
       "</table>\n",
       "</div>"
      ],
      "text/plain": [
       "   pred(neg)  pred(pos)\n",
       "0         14         10\n",
       "1          8         14"
      ]
     },
     "execution_count": 14,
     "metadata": {},
     "output_type": "execute_result"
    }
   ],
   "source": [
    "con_05 = confusion_matrix(y_test,y_pred1)\n",
    "print(\"Confusion matrix when threshold is default = 0.5\")\n",
    "pd.DataFrame(con_05, columns=['pred(neg)', 'pred(pos)'])"
   ]
  },
  {
   "cell_type": "markdown",
   "metadata": {
    "colab_type": "text",
    "id": "ayU1w7E2u1nQ"
   },
   "source": [
    "Feature Importance based on coefficients"
   ]
  },
  {
   "cell_type": "code",
   "execution_count": 15,
   "metadata": {
    "colab": {
     "base_uri": "https://localhost:8080/",
     "height": 202
    },
    "colab_type": "code",
    "executionInfo": {
     "elapsed": 1576,
     "status": "ok",
     "timestamp": 1576268188785,
     "user": {
      "displayName": "Khyathi Balusu",
      "photoUrl": "",
      "userId": "16107378939378587927"
     },
     "user_tz": 360
    },
    "id": "QSOTRIxKFm6k",
    "outputId": "3a108117-8081-40ea-f73c-3b4b94983d3f"
   },
   "outputs": [
    {
     "data": {
      "text/html": [
       "<div>\n",
       "<style scoped>\n",
       "    .dataframe tbody tr th:only-of-type {\n",
       "        vertical-align: middle;\n",
       "    }\n",
       "\n",
       "    .dataframe tbody tr th {\n",
       "        vertical-align: top;\n",
       "    }\n",
       "\n",
       "    .dataframe thead th {\n",
       "        text-align: right;\n",
       "    }\n",
       "</style>\n",
       "<table border=\"1\" class=\"dataframe\">\n",
       "  <thead>\n",
       "    <tr style=\"text-align: right;\">\n",
       "      <th></th>\n",
       "      <th>Features</th>\n",
       "      <th>weights</th>\n",
       "      <th>weights_abs</th>\n",
       "    </tr>\n",
       "  </thead>\n",
       "  <tbody>\n",
       "    <tr>\n",
       "      <th>0</th>\n",
       "      <td>Average of ExitRate</td>\n",
       "      <td>0.079797</td>\n",
       "      <td>0.079797</td>\n",
       "    </tr>\n",
       "    <tr>\n",
       "      <th>1</th>\n",
       "      <td>(direct)</td>\n",
       "      <td>-0.039200</td>\n",
       "      <td>0.039200</td>\n",
       "    </tr>\n",
       "    <tr>\n",
       "      <th>2</th>\n",
       "      <td>Google</td>\n",
       "      <td>-0.035244</td>\n",
       "      <td>0.035244</td>\n",
       "    </tr>\n",
       "    <tr>\n",
       "      <th>3</th>\n",
       "      <td>Sum of OrganicSearch</td>\n",
       "      <td>0.011878</td>\n",
       "      <td>0.011878</td>\n",
       "    </tr>\n",
       "    <tr>\n",
       "      <th>4</th>\n",
       "      <td>ZG</td>\n",
       "      <td>0.006608</td>\n",
       "      <td>0.006608</td>\n",
       "    </tr>\n",
       "  </tbody>\n",
       "</table>\n",
       "</div>"
      ],
      "text/plain": [
       "               Features   weights  weights_abs\n",
       "0   Average of ExitRate  0.079797     0.079797\n",
       "1              (direct) -0.039200     0.039200\n",
       "2                Google -0.035244     0.035244\n",
       "3  Sum of OrganicSearch  0.011878     0.011878\n",
       "4                    ZG  0.006608     0.006608"
      ]
     },
     "execution_count": 15,
     "metadata": {},
     "output_type": "execute_result"
    }
   ],
   "source": [
    "weights = Series(model.coef_[0],\n",
    "                 index=X_train.columns.values)\n",
    "weights2 = DataFrame(dict(weights = weights, weights_abs = weights.abs()))\n",
    "weights2=weights2.sort_values(by='weights_abs',ascending=False)\n",
    "weights2  = weights2.reset_index().rename(columns={'index': 'Features'})\n",
    "weights2.head(5)"
   ]
  },
  {
   "cell_type": "markdown",
   "metadata": {
    "colab_type": "text",
    "id": "1QQ4HuFMNSB_"
   },
   "source": [
    "#Random Forest - split based on threshold and then model"
   ]
  },
  {
   "cell_type": "code",
   "execution_count": 16,
   "metadata": {
    "colab": {},
    "colab_type": "code",
    "id": "RSK73UBQxdX4"
   },
   "outputs": [],
   "source": [
    "df1_rf=df.drop(['Date','Y variable','Sum of Conversions','Sum of UniquePageview','Year', 'Sum of User','Day of Week','Month','Day','% of conv'],axis=1)\n",
    "df1=pd.get_dummies(df1_rf,drop_first=True)\n",
    "X_rf = df1_rf.drop(columns='y_var')\n",
    "y_rf = df1_rf['y_var']\n",
    "X_train, X_test, y_train, y_test = train_test_split(X_rf,y_rf,test_size=0.3, random_state=42)"
   ]
  },
  {
   "cell_type": "code",
   "execution_count": 17,
   "metadata": {
    "colab": {
     "base_uri": "https://localhost:8080/",
     "height": 193
    },
    "colab_type": "code",
    "executionInfo": {
     "elapsed": 1546,
     "status": "ok",
     "timestamp": 1576268188790,
     "user": {
      "displayName": "Khyathi Balusu",
      "photoUrl": "",
      "userId": "16107378939378587927"
     },
     "user_tz": 360
    },
    "id": "Mkmk4iz3xla_",
    "outputId": "783c1f76-b97c-4ee0-8aad-37055a699e4e"
   },
   "outputs": [
    {
     "name": "stderr",
     "output_type": "stream",
     "text": [
      "C:\\Users\\aadia\\Anaconda3\\lib\\site-packages\\sklearn\\ensemble\\forest.py:245: FutureWarning: The default value of n_estimators will change from 10 in version 0.20 to 100 in 0.22.\n",
      "  \"10 in version 0.20 to 100 in 0.22.\", FutureWarning)\n"
     ]
    },
    {
     "data": {
      "text/plain": [
       "RandomForestClassifier(bootstrap=True, class_weight=None, criterion='gini',\n",
       "                       max_depth=None, max_features='auto', max_leaf_nodes=None,\n",
       "                       min_impurity_decrease=0.0, min_impurity_split=None,\n",
       "                       min_samples_leaf=1, min_samples_split=2,\n",
       "                       min_weight_fraction_leaf=0.0, n_estimators=10,\n",
       "                       n_jobs=None, oob_score=False, random_state=35, verbose=0,\n",
       "                       warm_start=False)"
      ]
     },
     "execution_count": 17,
     "metadata": {},
     "output_type": "execute_result"
    }
   ],
   "source": [
    "rfClassification = RandomForestClassifier(random_state=35) #default parameters\n",
    "rfClassification.fit(X_train, y_train)"
   ]
  },
  {
   "cell_type": "code",
   "execution_count": 18,
   "metadata": {
    "colab": {},
    "colab_type": "code",
    "id": "vk8ua8hzxlOO"
   },
   "outputs": [],
   "source": [
    "y_pred_prob = rfClassification.predict_proba(X_test)\n",
    "y_pred=np.where(y_pred_prob[:,1]>0.5,1,0)"
   ]
  },
  {
   "cell_type": "code",
   "execution_count": 19,
   "metadata": {
    "colab": {
     "base_uri": "https://localhost:8080/",
     "height": 127
    },
    "colab_type": "code",
    "executionInfo": {
     "elapsed": 1681,
     "status": "ok",
     "timestamp": 1576268188958,
     "user": {
      "displayName": "Khyathi Balusu",
      "photoUrl": "",
      "userId": "16107378939378587927"
     },
     "user_tz": 360
    },
    "id": "ywRjYwCLxlKD",
    "outputId": "ab9d847c-3110-49e0-b588-8383ef5d225b"
   },
   "outputs": [
    {
     "name": "stdout",
     "output_type": "stream",
     "text": [
      "Confusion matrix when threshold is default = 0.5\n"
     ]
    },
    {
     "data": {
      "text/html": [
       "<div>\n",
       "<style scoped>\n",
       "    .dataframe tbody tr th:only-of-type {\n",
       "        vertical-align: middle;\n",
       "    }\n",
       "\n",
       "    .dataframe tbody tr th {\n",
       "        vertical-align: top;\n",
       "    }\n",
       "\n",
       "    .dataframe thead th {\n",
       "        text-align: right;\n",
       "    }\n",
       "</style>\n",
       "<table border=\"1\" class=\"dataframe\">\n",
       "  <thead>\n",
       "    <tr style=\"text-align: right;\">\n",
       "      <th></th>\n",
       "      <th>pred(neg)</th>\n",
       "      <th>pred(pos)</th>\n",
       "    </tr>\n",
       "  </thead>\n",
       "  <tbody>\n",
       "    <tr>\n",
       "      <th>0</th>\n",
       "      <td>21</td>\n",
       "      <td>3</td>\n",
       "    </tr>\n",
       "    <tr>\n",
       "      <th>1</th>\n",
       "      <td>3</td>\n",
       "      <td>19</td>\n",
       "    </tr>\n",
       "  </tbody>\n",
       "</table>\n",
       "</div>"
      ],
      "text/plain": [
       "   pred(neg)  pred(pos)\n",
       "0         21          3\n",
       "1          3         19"
      ]
     },
     "execution_count": 19,
     "metadata": {},
     "output_type": "execute_result"
    }
   ],
   "source": [
    "con_05 = confusion_matrix(y_test,y_pred)\n",
    "\n",
    "print(\"Confusion matrix when threshold is default = 0.5\")\n",
    "pd.DataFrame(con_05, columns=['pred(neg)', 'pred(pos)'])"
   ]
  },
  {
   "cell_type": "code",
   "execution_count": 20,
   "metadata": {
    "colab": {
     "base_uri": "https://localhost:8080/",
     "height": 243
    },
    "colab_type": "code",
    "executionInfo": {
     "elapsed": 1664,
     "status": "ok",
     "timestamp": 1576268188959,
     "user": {
      "displayName": "Khyathi Balusu",
      "photoUrl": "",
      "userId": "16107378939378587927"
     },
     "user_tz": 360
    },
    "id": "CiujkNIVxlDo",
    "outputId": "56426770-80c5-4114-bec5-4525bcbf0208"
   },
   "outputs": [
    {
     "name": "stdout",
     "output_type": "stream",
     "text": [
      "Classification report for normal Random forest classifier\n",
      "F1 Score:  0.8636363636363636\n",
      "AUROC:  0.8996212121212122\n",
      "\n",
      "              precision    recall  f1-score   support\n",
      "\n",
      "           0       0.88      0.88      0.88        24\n",
      "           1       0.86      0.86      0.86        22\n",
      "\n",
      "    accuracy                           0.87        46\n",
      "   macro avg       0.87      0.87      0.87        46\n",
      "weighted avg       0.87      0.87      0.87        46\n",
      "\n"
     ]
    }
   ],
   "source": [
    "#normal model\n",
    "print(\"Classification report for normal Random forest classifier\")\n",
    "print(\"F1 Score: \", f1_score(y_test, y_pred))\n",
    "print(\"AUROC: \", roc_auc_score(y_test, y_pred_prob[:,1]))\n",
    "print()\n",
    "print(classification_report(y_test, y_pred))"
   ]
  },
  {
   "cell_type": "markdown",
   "metadata": {
    "colab_type": "text",
    "id": "BTQn_PzCxwAV"
   },
   "source": [
    "Tuning the model further :"
   ]
  },
  {
   "cell_type": "code",
   "execution_count": 21,
   "metadata": {
    "colab": {
     "base_uri": "https://localhost:8080/",
     "height": 89
    },
    "colab_type": "code",
    "executionInfo": {
     "elapsed": 1940,
     "status": "ok",
     "timestamp": 1576268189255,
     "user": {
      "displayName": "Khyathi Balusu",
      "photoUrl": "",
      "userId": "16107378939378587927"
     },
     "user_tz": 360
    },
    "id": "_f6PVoGrxdYJ",
    "outputId": "fa6d6b09-3eeb-458c-8880-0c1c19ac0a3e",
    "scrolled": true
   },
   "outputs": [
    {
     "name": "stdout",
     "output_type": "stream",
     "text": [
      "{'criterion': 'gini', 'max_depth': 5, 'n_estimators': 10}\n"
     ]
    },
    {
     "name": "stderr",
     "output_type": "stream",
     "text": [
      "C:\\Users\\aadia\\Anaconda3\\lib\\site-packages\\sklearn\\model_selection\\_search.py:813: DeprecationWarning: The default of the `iid` parameter will change from True to False in version 0.22 and will be removed in 0.24. This will change numeric results when test-set sizes are unequal.\n",
      "  DeprecationWarning)\n"
     ]
    }
   ],
   "source": [
    "tuned_parameters = [{'n_estimators':[5,10,20],\n",
    "                     'criterion': ['gini'],\n",
    "                     'max_depth':[5,10],\n",
    "                     \n",
    "                    }\n",
    "                   ]\n",
    "clf1 = GridSearchCV(RandomForestClassifier(random_state=30), tuned_parameters, cv=3) #30\n",
    "clf1.fit(X_train, y_train)\n",
    "print(clf1.best_params_)"
   ]
  },
  {
   "cell_type": "code",
   "execution_count": 22,
   "metadata": {
    "colab": {
     "base_uri": "https://localhost:8080/",
     "height": 35
    },
    "colab_type": "code",
    "executionInfo": {
     "elapsed": 1918,
     "status": "ok",
     "timestamp": 1576268189256,
     "user": {
      "displayName": "Khyathi Balusu",
      "photoUrl": "",
      "userId": "16107378939378587927"
     },
     "user_tz": 360
    },
    "id": "_eNKXLhDQv_Y",
    "outputId": "cf2808a3-8b37-4a5b-82de-dc40cc5b9707"
   },
   "outputs": [
    {
     "name": "stdout",
     "output_type": "stream",
     "text": [
      "AUC score: 0.9905594405594407\n"
     ]
    }
   ],
   "source": [
    "y_true, y_pred = y_train, clf1.predict(X_train)\n",
    "y_pred_clf1_prob=clf1.predict_proba(X_train)\n",
    "\n",
    "#calculating train AUC ROC\n",
    "false_positive_rate, recall, thresholds = roc_curve(y_train,y_pred_clf1_prob[:,1])\n",
    "roc_auc = auc(false_positive_rate, recall)\n",
    "print('AUC score:', roc_auc)"
   ]
  },
  {
   "cell_type": "code",
   "execution_count": 23,
   "metadata": {
    "colab": {
     "base_uri": "https://localhost:8080/",
     "height": 191
    },
    "colab_type": "code",
    "executionInfo": {
     "elapsed": 1899,
     "status": "ok",
     "timestamp": 1576268189258,
     "user": {
      "displayName": "Khyathi Balusu",
      "photoUrl": "",
      "userId": "16107378939378587927"
     },
     "user_tz": 360
    },
    "id": "Xjxffs8l1mUz",
    "outputId": "5aeea4bc-df62-42be-c59a-b3240137e3d0"
   },
   "outputs": [
    {
     "name": "stdout",
     "output_type": "stream",
     "text": [
      "              precision    recall  f1-score   support\n",
      "\n",
      "           0       0.92      0.94      0.93        52\n",
      "           1       0.94      0.93      0.94        55\n",
      "\n",
      "    accuracy                           0.93       107\n",
      "   macro avg       0.93      0.93      0.93       107\n",
      "weighted avg       0.93      0.93      0.93       107\n",
      "\n"
     ]
    },
    {
     "data": {
      "text/plain": [
       "0.9347902097902098"
      ]
     },
     "execution_count": 23,
     "metadata": {},
     "output_type": "execute_result"
    }
   ],
   "source": [
    "print(classification_report(y_train, y_pred))\n",
    "roc_auc_score(y_train, y_pred)"
   ]
  },
  {
   "cell_type": "code",
   "execution_count": 24,
   "metadata": {
    "colab": {
     "base_uri": "https://localhost:8080/",
     "height": 35
    },
    "colab_type": "code",
    "executionInfo": {
     "elapsed": 1878,
     "status": "ok",
     "timestamp": 1576268189259,
     "user": {
      "displayName": "Khyathi Balusu",
      "photoUrl": "",
      "userId": "16107378939378587927"
     },
     "user_tz": 360
    },
    "id": "QkgS5-kvQv7F",
    "outputId": "cd37ce90-663b-4811-c92b-f2f8199468a3"
   },
   "outputs": [
    {
     "name": "stdout",
     "output_type": "stream",
     "text": [
      "AUC score: 0.8920454545454546\n"
     ]
    }
   ],
   "source": [
    "#Use the best parameters to get the best predictions\n",
    "y_true, y_pred = y_test, clf1.predict(X_test)\n",
    "y_pred_clf1_prob=clf1.predict_proba(X_test)\n",
    "\n",
    "#calculating val AUC score\n",
    "false_positive_rate, recall, thresholds = roc_curve(y_test,y_pred_clf1_prob[:,1])\n",
    "roc_auc = auc(false_positive_rate, recall)\n",
    "print('AUC score:', roc_auc)"
   ]
  },
  {
   "cell_type": "code",
   "execution_count": 25,
   "metadata": {
    "colab": {
     "base_uri": "https://localhost:8080/",
     "height": 191
    },
    "colab_type": "code",
    "executionInfo": {
     "elapsed": 1953,
     "status": "ok",
     "timestamp": 1576268189353,
     "user": {
      "displayName": "Khyathi Balusu",
      "photoUrl": "",
      "userId": "16107378939378587927"
     },
     "user_tz": 360
    },
    "id": "P5oEpeSfQv36",
    "outputId": "af2992bf-543e-4720-bf4b-b7080ec5f09c"
   },
   "outputs": [
    {
     "name": "stdout",
     "output_type": "stream",
     "text": [
      "              precision    recall  f1-score   support\n",
      "\n",
      "           0       0.78      0.88      0.82        24\n",
      "           1       0.84      0.73      0.78        22\n",
      "\n",
      "    accuracy                           0.80        46\n",
      "   macro avg       0.81      0.80      0.80        46\n",
      "weighted avg       0.81      0.80      0.80        46\n",
      "\n"
     ]
    },
    {
     "data": {
      "text/plain": [
       "0.8011363636363636"
      ]
     },
     "execution_count": 25,
     "metadata": {},
     "output_type": "execute_result"
    }
   ],
   "source": [
    "print(classification_report(y_test, y_pred))\n",
    "roc_auc_score(y_test, y_pred)"
   ]
  },
  {
   "cell_type": "code",
   "execution_count": 26,
   "metadata": {
    "colab": {
     "base_uri": "https://localhost:8080/",
     "height": 609
    },
    "colab_type": "code",
    "executionInfo": {
     "elapsed": 2445,
     "status": "ok",
     "timestamp": 1576268189866,
     "user": {
      "displayName": "Khyathi Balusu",
      "photoUrl": "",
      "userId": "16107378939378587927"
     },
     "user_tz": 360
    },
    "id": "BYeyqAb0Qv2H",
    "outputId": "e5ebdb03-39b7-449c-b6b9-f6d1bea093a4"
   },
   "outputs": [
    {
     "data": {
      "text/plain": [
       "<matplotlib.axes._subplots.AxesSubplot at 0x1b09aab7c88>"
      ]
     },
     "execution_count": 26,
     "metadata": {},
     "output_type": "execute_result"
    },
    {
     "data": {
      "image/png": "[encoded data removed]",
      "text/plain": [
       "<Figure size 720x720 with 1 Axes>"
      ]
     },
     "metadata": {
      "needs_background": "light"
     },
     "output_type": "display_data"
    }
   ],
   "source": [
    "clf1_rf = RandomForestClassifier(random_state=50,criterion= 'gini', max_depth= 10, n_estimators=20)\n",
    "clf1_rf.fit(X_train, y_train)\n",
    "feat_importances = pd.Series(clf1_rf.feature_importances_, index=X_train.columns)\n",
    "plt.figure(figsize=(10,10)) \n",
    "feat_importances.sort_values().plot(kind='barh',color='c')\n",
    "#feat_importances.sort_values(ascending=False)"
   ]
  },
  {
   "cell_type": "markdown",
   "metadata": {
    "colab_type": "text",
    "id": "Ihjdq7j3Ypfh"
   },
   "source": [
    "# RF - Model and then split the prediction based on threshold\n",
    "\n",
    "Modelled with y-variable as continuous variable"
   ]
  },
  {
   "cell_type": "code",
   "execution_count": 27,
   "metadata": {
    "colab": {
     "base_uri": "https://localhost:8080/",
     "height": 173
    },
    "colab_type": "code",
    "executionInfo": {
     "elapsed": 2421,
     "status": "ok",
     "timestamp": 1576268189869,
     "user": {
      "displayName": "Khyathi Balusu",
      "photoUrl": "",
      "userId": "16107378939378587927"
     },
     "user_tz": 360
    },
    "id": "ovr068jQQv0F",
    "outputId": "585a2330-f393-4e3a-c9ac-d7d4d23584d2"
   },
   "outputs": [
    {
     "data": {
      "text/plain": [
       "array(['Sum of Pageview', 'Sum of Session', 'Average of BounceRate',\n",
       "       'Average of ExitRate', 'Sum of OrganicSearch',\n",
       "       'Average of Session dur', 'Average of Time on page', '(direct)',\n",
       "       '(not set)', 'Ad', 'Amazon', 'As', 'Baidu', 'Bing', 'xyz', 'C',\n",
       "       'DD', 'Facebook', 'GMB', 'Google', 'Googleads', '360', 'ND',\n",
       "       'Others', 'Ref A', 'Ref R', 'Yahoo', 'Youtube', 'ZG', '% of conv'],\n",
       "      dtype=object)"
      ]
     },
     "execution_count": 27,
     "metadata": {},
     "output_type": "execute_result"
    }
   ],
   "source": [
    "df2=df.drop(['Date','y_var','Y variable','Sum of Conversions','Sum of UniquePageview','Year', 'Sum of User','Day of Week','Month','Day'],axis=1)\n",
    "df2.columns.values"
   ]
  },
  {
   "cell_type": "code",
   "execution_count": 28,
   "metadata": {
    "colab": {},
    "colab_type": "code",
    "id": "aBuCuHi6Qvwp"
   },
   "outputs": [],
   "source": [
    "df2=pd.get_dummies(df2,drop_first=True)\n",
    "X_reg = df2.drop(columns='% of conv')\n",
    "y_reg = df2['% of conv']\n",
    "X_train_reg, X_test_reg, y_train_reg, y_test_reg = train_test_split(X_reg,y_reg,test_size=0.3, random_state=42)"
   ]
  },
  {
   "cell_type": "code",
   "execution_count": 29,
   "metadata": {
    "colab": {
     "base_uri": "https://localhost:8080/",
     "height": 193
    },
    "colab_type": "code",
    "executionInfo": {
     "elapsed": 218,
     "status": "ok",
     "timestamp": 1576268849051,
     "user": {
      "displayName": "Khyathi Balusu",
      "photoUrl": "",
      "userId": "16107378939378587927"
     },
     "user_tz": 360
    },
    "id": "GNozkyWPQvuK",
    "outputId": "12c87074-bd11-45ce-e612-9c4cdf182b3a"
   },
   "outputs": [
    {
     "name": "stderr",
     "output_type": "stream",
     "text": [
      "C:\\Users\\aadia\\Anaconda3\\lib\\site-packages\\sklearn\\ensemble\\forest.py:245: FutureWarning: The default value of n_estimators will change from 10 in version 0.20 to 100 in 0.22.\n",
      "  \"10 in version 0.20 to 100 in 0.22.\", FutureWarning)\n"
     ]
    },
    {
     "data": {
      "text/plain": [
       "RandomForestRegressor(bootstrap=True, criterion='mse', max_depth=None,\n",
       "                      max_features='auto', max_leaf_nodes=None,\n",
       "                      min_impurity_decrease=0.0, min_impurity_split=None,\n",
       "                      min_samples_leaf=1, min_samples_split=2,\n",
       "                      min_weight_fraction_leaf=0.0, n_estimators=10,\n",
       "                      n_jobs=None, oob_score=False, random_state=32, verbose=0,\n",
       "                      warm_start=False)"
      ]
     },
     "execution_count": 29,
     "metadata": {},
     "output_type": "execute_result"
    }
   ],
   "source": [
    "rfRegression = RandomForestRegressor(random_state = 32)  #45,32\n",
    "rfRegression.fit(X_train_reg, y_train_reg)"
   ]
  },
  {
   "cell_type": "code",
   "execution_count": 30,
   "metadata": {
    "colab": {
     "base_uri": "https://localhost:8080/",
     "height": 52
    },
    "colab_type": "code",
    "executionInfo": {
     "elapsed": 371,
     "status": "ok",
     "timestamp": 1576268851512,
     "user": {
      "displayName": "Khyathi Balusu",
      "photoUrl": "",
      "userId": "16107378939378587927"
     },
     "user_tz": 360
    },
    "id": "oucCJ9RfQvrR",
    "outputId": "c5778493-c354-4201-bbb7-de4147035ecf"
   },
   "outputs": [
    {
     "name": "stdout",
     "output_type": "stream",
     "text": [
      "RMSE test: 0.000822\n",
      "RMSE train: 0.000407\n"
     ]
    }
   ],
   "source": [
    "y_pred_reg = rfRegression.predict(X_test_reg)\n",
    "y_pred_reg_tr = rfRegression.predict(X_train_reg)\n",
    "rmse = np.sqrt(mean_squared_error(y_test_reg, y_pred_reg))\n",
    "rmse_tr = np.sqrt(mean_squared_error(y_train_reg, y_pred_reg_tr))\n",
    "print(\"RMSE test: %f\" % (rmse))\n",
    "print(\"RMSE train: %f\" % (rmse_tr))\n"
   ]
  },
  {
   "cell_type": "code",
   "execution_count": 31,
   "metadata": {
    "colab": {
     "base_uri": "https://localhost:8080/",
     "height": 127
    },
    "colab_type": "code",
    "executionInfo": {
     "elapsed": 384,
     "status": "ok",
     "timestamp": 1576268853839,
     "user": {
      "displayName": "Khyathi Balusu",
      "photoUrl": "",
      "userId": "16107378939378587927"
     },
     "user_tz": 360
    },
    "id": "nUs_z3idQvnr",
    "outputId": "8376bad4-9bdf-4131-d8f6-34be5487a329"
   },
   "outputs": [
    {
     "name": "stdout",
     "output_type": "stream",
     "text": [
      "Confusion matrix when threshold is default = 0.5\n"
     ]
    },
    {
     "data": {
      "text/html": [
       "<div>\n",
       "<style scoped>\n",
       "    .dataframe tbody tr th:only-of-type {\n",
       "        vertical-align: middle;\n",
       "    }\n",
       "\n",
       "    .dataframe tbody tr th {\n",
       "        vertical-align: top;\n",
       "    }\n",
       "\n",
       "    .dataframe thead th {\n",
       "        text-align: right;\n",
       "    }\n",
       "</style>\n",
       "<table border=\"1\" class=\"dataframe\">\n",
       "  <thead>\n",
       "    <tr style=\"text-align: right;\">\n",
       "      <th></th>\n",
       "      <th>pred(neg)</th>\n",
       "      <th>pred(pos)</th>\n",
       "    </tr>\n",
       "  </thead>\n",
       "  <tbody>\n",
       "    <tr>\n",
       "      <th>0</th>\n",
       "      <td>21</td>\n",
       "      <td>3</td>\n",
       "    </tr>\n",
       "    <tr>\n",
       "      <th>1</th>\n",
       "      <td>7</td>\n",
       "      <td>15</td>\n",
       "    </tr>\n",
       "  </tbody>\n",
       "</table>\n",
       "</div>"
      ],
      "text/plain": [
       "   pred(neg)  pred(pos)\n",
       "0         21          3\n",
       "1          7         15"
      ]
     },
     "execution_count": 31,
     "metadata": {},
     "output_type": "execute_result"
    }
   ],
   "source": [
    "y_pred_reg_class=np.where(y_pred_reg>df['% of conv'].mean(),1,0)  # converting predicted y into categorical\n",
    "\n",
    "con = confusion_matrix(y_test,y_pred_reg_class)\n",
    "\n",
    "print(\"Confusion matrix when threshold is default = 0.5\")\n",
    "pd.DataFrame(con, columns=['pred(neg)', 'pred(pos)'])"
   ]
  },
  {
   "cell_type": "code",
   "execution_count": 32,
   "metadata": {
    "colab": {
     "base_uri": "https://localhost:8080/",
     "height": 225
    },
    "colab_type": "code",
    "executionInfo": {
     "elapsed": 324,
     "status": "ok",
     "timestamp": 1576268856286,
     "user": {
      "displayName": "Khyathi Balusu",
      "photoUrl": "",
      "userId": "16107378939378587927"
     },
     "user_tz": 360
    },
    "id": "u0YPXyjrQvjt",
    "outputId": "79eee250-d541-4a4a-fef0-f90947c56c8d"
   },
   "outputs": [
    {
     "name": "stdout",
     "output_type": "stream",
     "text": [
      "Classification report for normal Random Forest classifier\n",
      "F1 Score:  0.7499999999999999\n",
      "\n",
      "              precision    recall  f1-score   support\n",
      "\n",
      "           0       0.75      0.88      0.81        24\n",
      "           1       0.83      0.68      0.75        22\n",
      "\n",
      "    accuracy                           0.78        46\n",
      "   macro avg       0.79      0.78      0.78        46\n",
      "weighted avg       0.79      0.78      0.78        46\n",
      "\n"
     ]
    }
   ],
   "source": [
    "#normal model\n",
    "print(\"Classification report for normal Random Forest classifier\")\n",
    "print(\"F1 Score: \", f1_score(y_test, y_pred_reg_class))\n",
    "print()\n",
    "print(classification_report(y_test, y_pred_reg_class))"
   ]
  },
  {
   "cell_type": "markdown",
   "metadata": {
    "colab_type": "text",
    "id": "pGKlE8UIANMD"
   },
   "source": [
    "Precision has improved compared to the previous model"
   ]
  },
  {
   "cell_type": "markdown",
   "metadata": {
    "colab_type": "text",
    "id": "1QcoEI2R_Oc9"
   },
   "source": [
    "Feature Importance :"
   ]
  },
  {
   "cell_type": "code",
   "execution_count": 33,
   "metadata": {
    "colab": {
     "base_uri": "https://localhost:8080/",
     "height": 609
    },
    "colab_type": "code",
    "executionInfo": {
     "elapsed": 742,
     "status": "ok",
     "timestamp": 1576269082380,
     "user": {
      "displayName": "Khyathi Balusu",
      "photoUrl": "",
      "userId": "16107378939378587927"
     },
     "user_tz": 360
    },
    "id": "bgXu8JbXQvgU",
    "outputId": "e1af571a-30a2-4b7b-df0b-fa1e97782507"
   },
   "outputs": [
    {
     "data": {
      "text/plain": [
       "<matplotlib.axes._subplots.AxesSubplot at 0x1b09ae87518>"
      ]
     },
     "execution_count": 33,
     "metadata": {},
     "output_type": "execute_result"
    },
    {
     "data": {
      "image/png": "[encoded data removed]",
      "text/plain": [
       "<Figure size 720x720 with 1 Axes>"
      ]
     },
     "metadata": {
      "needs_background": "light"
     },
     "output_type": "display_data"
    }
   ],
   "source": [
    "feat_importances = pd.Series(rfRegression.feature_importances_, index=X_train.columns)\n",
    "plt.figure(figsize=(10,10))\n",
    "feat_importances.sort_values().plot(kind='barh',color='c')\n",
    "#feat_importances.sort_values(ascending=False)"
   ]
  },
  {
   "cell_type": "markdown",
   "metadata": {
    "colab_type": "text",
    "id": "ehCQWV70bQ-y"
   },
   "source": [
    "#XG Boost"
   ]
  },
  {
   "cell_type": "code",
   "execution_count": 34,
   "metadata": {
    "colab": {},
    "colab_type": "code",
    "id": "Zbp6cJhIQveQ"
   },
   "outputs": [],
   "source": [
    "df1_xg=df.drop(['Date','Y variable','Sum of Conversions','Sum of UniquePageview','Year', 'Sum of User','Day of Week','Month','Day','% of conv'],axis=1)\n",
    "#df1_xg.columns.values"
   ]
  },
  {
   "cell_type": "code",
   "execution_count": 35,
   "metadata": {
    "colab": {},
    "colab_type": "code",
    "id": "rW0oK5BYQvch"
   },
   "outputs": [],
   "source": [
    "df1_xg=pd.get_dummies(df1_xg,drop_first=True)\n",
    "X = df1_xg.drop(columns='y_var')\n",
    "y = df1_xg['y_var']\n",
    "X_train, X_test, y_train, y_test = train_test_split(X,y,test_size=0.3, random_state=42)"
   ]
  },
  {
   "cell_type": "markdown",
   "metadata": {
    "colab_type": "text",
    "id": "UyCWQU1fbrmv"
   },
   "source": [
    "# XGB - split based on threshold and then model\n",
    "\n",
    "modelled with y-variable as categorical variable"
   ]
  },
  {
   "cell_type": "code",
   "execution_count": 36,
   "metadata": {
    "colab": {},
    "colab_type": "code",
    "id": "OXqZ2sm2bmwf"
   },
   "outputs": [],
   "source": [
    "xgb_class = xgb.XGBClassifier(random_state = 30)\n",
    "xgb_class.fit(X_train, y_train)\n",
    "y_pred_prob = xgb_class.predict_proba(X_test)\n",
    "y_pred=np.where(y_pred_prob[:,1]>0.5,1,0) "
   ]
  },
  {
   "cell_type": "code",
   "execution_count": 37,
   "metadata": {
    "colab": {
     "base_uri": "https://localhost:8080/",
     "height": 127
    },
    "colab_type": "code",
    "executionInfo": {
     "elapsed": 373,
     "status": "ok",
     "timestamp": 1576268926008,
     "user": {
      "displayName": "Khyathi Balusu",
      "photoUrl": "",
      "userId": "16107378939378587927"
     },
     "user_tz": 360
    },
    "id": "w37oRXzZbmsa",
    "outputId": "d291db72-599e-4864-ac32-95e7882bbfe5"
   },
   "outputs": [
    {
     "name": "stdout",
     "output_type": "stream",
     "text": [
      "Confusion matrix when threshold is default = 0.5\n"
     ]
    },
    {
     "data": {
      "text/html": [
       "<div>\n",
       "<style scoped>\n",
       "    .dataframe tbody tr th:only-of-type {\n",
       "        vertical-align: middle;\n",
       "    }\n",
       "\n",
       "    .dataframe tbody tr th {\n",
       "        vertical-align: top;\n",
       "    }\n",
       "\n",
       "    .dataframe thead th {\n",
       "        text-align: right;\n",
       "    }\n",
       "</style>\n",
       "<table border=\"1\" class=\"dataframe\">\n",
       "  <thead>\n",
       "    <tr style=\"text-align: right;\">\n",
       "      <th></th>\n",
       "      <th>pred(neg)</th>\n",
       "      <th>pred(pos)</th>\n",
       "    </tr>\n",
       "  </thead>\n",
       "  <tbody>\n",
       "    <tr>\n",
       "      <th>0</th>\n",
       "      <td>19</td>\n",
       "      <td>5</td>\n",
       "    </tr>\n",
       "    <tr>\n",
       "      <th>1</th>\n",
       "      <td>4</td>\n",
       "      <td>18</td>\n",
       "    </tr>\n",
       "  </tbody>\n",
       "</table>\n",
       "</div>"
      ],
      "text/plain": [
       "   pred(neg)  pred(pos)\n",
       "0         19          5\n",
       "1          4         18"
      ]
     },
     "execution_count": 37,
     "metadata": {},
     "output_type": "execute_result"
    }
   ],
   "source": [
    "con_05 = confusion_matrix(y_test,y_pred)\n",
    "\n",
    "print(\"Confusion matrix when threshold is default = 0.5\")\n",
    "pd.DataFrame(con_05, columns=['pred(neg)', 'pred(pos)'])"
   ]
  },
  {
   "cell_type": "code",
   "execution_count": 38,
   "metadata": {
    "colab": {
     "base_uri": "https://localhost:8080/",
     "height": 243
    },
    "colab_type": "code",
    "executionInfo": {
     "elapsed": 383,
     "status": "ok",
     "timestamp": 1576268928647,
     "user": {
      "displayName": "Khyathi Balusu",
      "photoUrl": "",
      "userId": "16107378939378587927"
     },
     "user_tz": 360
    },
    "id": "qb2IOdeDbmq0",
    "outputId": "2648e5f1-8fdb-41c9-c712-8d04fc443a63"
   },
   "outputs": [
    {
     "name": "stdout",
     "output_type": "stream",
     "text": [
      "Classification report for normal XGB classifier\n",
      "F1 Score:  0.8\n",
      "AUROC:  0.9015151515151516\n",
      "\n",
      "              precision    recall  f1-score   support\n",
      "\n",
      "           0       0.83      0.79      0.81        24\n",
      "           1       0.78      0.82      0.80        22\n",
      "\n",
      "    accuracy                           0.80        46\n",
      "   macro avg       0.80      0.80      0.80        46\n",
      "weighted avg       0.81      0.80      0.80        46\n",
      "\n"
     ]
    }
   ],
   "source": [
    "#normal model\n",
    "print(\"Classification report for normal XGB classifier\")\n",
    "print(\"F1 Score: \", f1_score(y_test, y_pred))\n",
    "print(\"AUROC: \", roc_auc_score(y_test, y_pred_prob[:,1]))\n",
    "print()\n",
    "print(classification_report(y_test, y_pred))"
   ]
  },
  {
   "cell_type": "markdown",
   "metadata": {
    "colab_type": "text",
    "id": "xwowV9bc_U9g"
   },
   "source": [
    "Feature Importance"
   ]
  },
  {
   "cell_type": "code",
   "execution_count": 39,
   "metadata": {
    "colab": {
     "base_uri": "https://localhost:8080/",
     "height": 609
    },
    "colab_type": "code",
    "executionInfo": {
     "elapsed": 752,
     "status": "ok",
     "timestamp": 1576269125726,
     "user": {
      "displayName": "Khyathi Balusu",
      "photoUrl": "",
      "userId": "16107378939378587927"
     },
     "user_tz": 360
    },
    "id": "t-JdfBMdbmnj",
    "outputId": "aaf54830-6e99-47ff-f3e0-c127b8ab22c0"
   },
   "outputs": [
    {
     "data": {
      "text/plain": [
       "<matplotlib.axes._subplots.AxesSubplot at 0x1b09b3050b8>"
      ]
     },
     "execution_count": 39,
     "metadata": {},
     "output_type": "execute_result"
    },
    {
     "data": {
      "image/png": "[encoded data removed]",
      "text/plain": [
       "<Figure size 720x720 with 1 Axes>"
      ]
     },
     "metadata": {
      "needs_background": "light"
     },
     "output_type": "display_data"
    }
   ],
   "source": [
    "feat_importances = pd.Series(xgb_class.feature_importances_, index=X_train.columns)\n",
    "plt.figure(figsize=(10,10))\n",
    "feat_importances.sort_values().plot(kind='barh',color='c')"
   ]
  },
  {
   "cell_type": "markdown",
   "metadata": {
    "colab_type": "text",
    "id": "YjvP6zLB5jzb"
   },
   "source": [
    "# Tuning"
   ]
  },
  {
   "cell_type": "code",
   "execution_count": 40,
   "metadata": {
    "colab": {
     "base_uri": "https://localhost:8080/",
     "height": 89
    },
    "colab_type": "code",
    "executionInfo": {
     "elapsed": 498,
     "status": "ok",
     "timestamp": 1576268199486,
     "user": {
      "displayName": "Khyathi Balusu",
      "photoUrl": "",
      "userId": "16107378939378587927"
     },
     "user_tz": 360
    },
    "id": "pihQ9sqJ5Hjn",
    "outputId": "01a60d09-bb87-41d7-84ea-5128b3016b65"
   },
   "outputs": [
    {
     "name": "stdout",
     "output_type": "stream",
     "text": [
      "{'criterion': 'gini', 'max_depth': 5, 'n_estimators': 20}\n"
     ]
    },
    {
     "name": "stderr",
     "output_type": "stream",
     "text": [
      "C:\\Users\\aadia\\Anaconda3\\lib\\site-packages\\sklearn\\model_selection\\_search.py:813: DeprecationWarning: The default of the `iid` parameter will change from True to False in version 0.22 and will be removed in 0.24. This will change numeric results when test-set sizes are unequal.\n",
      "  DeprecationWarning)\n"
     ]
    }
   ],
   "source": [
    "from sklearn.model_selection import GridSearchCV\n",
    "tuned_parameters = [{'n_estimators':[5,10,20],\n",
    "                     'criterion': ['gini'],\n",
    "                     'max_depth':[5,10],\n",
    "                     \n",
    "                    }\n",
    "                   ]\n",
    "clf1 = GridSearchCV(xgb_class, tuned_parameters, cv=3)\n",
    "clf1.fit(X_train, y_train)\n",
    "print(clf1.best_params_)"
   ]
  },
  {
   "cell_type": "code",
   "execution_count": 41,
   "metadata": {
    "colab": {
     "base_uri": "https://localhost:8080/",
     "height": 139
    },
    "colab_type": "code",
    "executionInfo": {
     "elapsed": 229,
     "status": "ok",
     "timestamp": 1576268202916,
     "user": {
      "displayName": "Khyathi Balusu",
      "photoUrl": "",
      "userId": "16107378939378587927"
     },
     "user_tz": 360
    },
    "id": "CgvNUt145rgP",
    "outputId": "372c783f-aa89-4408-9a2c-03bcca205b8e"
   },
   "outputs": [
    {
     "data": {
      "text/plain": [
       "XGBClassifier(base_score=0.5, booster='gbtree', colsample_bylevel=1,\n",
       "              colsample_bynode=1, colsample_bytree=1, criterion='gini', gamma=0,\n",
       "              learning_rate=0.1, max_delta_step=0, max_depth=5,\n",
       "              min_child_weight=1, missing=None, n_estimators=10, n_jobs=1,\n",
       "              nthread=None, objective='binary:logistic', random_state=0,\n",
       "              reg_alpha=0, reg_lambda=1, scale_pos_weight=1, seed=None,\n",
       "              silent=None, subsample=1, verbosity=1)"
      ]
     },
     "execution_count": 41,
     "metadata": {},
     "output_type": "execute_result"
    }
   ],
   "source": [
    "#building the tuned model\n",
    "xgbClassification = xgb.XGBClassifier(criterion='gini',max_depth=5,n_estimators=10)\n",
    "xgbClassification.fit(X_train, y_train)"
   ]
  },
  {
   "cell_type": "code",
   "execution_count": 42,
   "metadata": {
    "colab": {},
    "colab_type": "code",
    "id": "Da4qBcqx5tR6"
   },
   "outputs": [],
   "source": [
    "#predicting on train set\n",
    "y_pred_prob = xgbClassification.predict_proba(X_train)\n",
    "y_pred=np.where(y_pred_prob[:,1]>0.5,1,0)"
   ]
  },
  {
   "cell_type": "code",
   "execution_count": 43,
   "metadata": {
    "colab": {
     "base_uri": "https://localhost:8080/",
     "height": 35
    },
    "colab_type": "code",
    "executionInfo": {
     "elapsed": 455,
     "status": "ok",
     "timestamp": 1576268212566,
     "user": {
      "displayName": "Khyathi Balusu",
      "photoUrl": "",
      "userId": "16107378939378587927"
     },
     "user_tz": 360
    },
    "id": "RlY4hSPt5uun",
    "outputId": "2d6ace95-1b9d-44b8-8a81-2e32a1b42daf"
   },
   "outputs": [
    {
     "name": "stdout",
     "output_type": "stream",
     "text": [
      "AUC score: 0.9979020979020979\n"
     ]
    }
   ],
   "source": [
    "#calculating train AUC score\n",
    "false_positive_rate, recall, thresholds = roc_curve(y_train,y_pred_prob[:,1])\n",
    "roc_auc = auc(false_positive_rate, recall)\n",
    "print('AUC score:', roc_auc)"
   ]
  },
  {
   "cell_type": "code",
   "execution_count": 44,
   "metadata": {
    "colab": {
     "base_uri": "https://localhost:8080/",
     "height": 191
    },
    "colab_type": "code",
    "executionInfo": {
     "elapsed": 186,
     "status": "ok",
     "timestamp": 1576268232890,
     "user": {
      "displayName": "Khyathi Balusu",
      "photoUrl": "",
      "userId": "16107378939378587927"
     },
     "user_tz": 360
    },
    "id": "5YnOWtK65wSs",
    "outputId": "28b88cb7-70ae-47bc-8f81-6c558a975fec"
   },
   "outputs": [
    {
     "name": "stdout",
     "output_type": "stream",
     "text": [
      "              precision    recall  f1-score   support\n",
      "\n",
      "           0       0.98      0.98      0.98        52\n",
      "           1       0.98      0.98      0.98        55\n",
      "\n",
      "    accuracy                           0.98       107\n",
      "   macro avg       0.98      0.98      0.98       107\n",
      "weighted avg       0.98      0.98      0.98       107\n",
      "\n",
      "F1 Score:  0.9818181818181818\n"
     ]
    }
   ],
   "source": [
    "print(classification_report(y_train, y_pred))\n",
    "print(\"F1 Score: \", f1_score(y_train, y_pred))"
   ]
  },
  {
   "cell_type": "code",
   "execution_count": 45,
   "metadata": {
    "colab": {
     "base_uri": "https://localhost:8080/",
     "height": 35
    },
    "colab_type": "code",
    "executionInfo": {
     "elapsed": 267,
     "status": "ok",
     "timestamp": 1576268255399,
     "user": {
      "displayName": "Khyathi Balusu",
      "photoUrl": "",
      "userId": "16107378939378587927"
     },
     "user_tz": 360
    },
    "id": "cfhC1xly5x9p",
    "outputId": "655d8100-93cc-4ef0-a0d7-ebb805f8b3a8"
   },
   "outputs": [
    {
     "name": "stdout",
     "output_type": "stream",
     "text": [
      "AUC score: 0.8598484848484849\n"
     ]
    }
   ],
   "source": [
    "#Use the best parameters to get the best predictions\n",
    "y_true, y_pred = y_test, xgbClassification.predict(X_test)\n",
    "y_pred_clf1_prob=xgbClassification.predict_proba(X_test)\n",
    "#calculating val AUC score\n",
    "false_positive_rate, recall, thresholds = roc_curve(y_test,y_pred_clf1_prob[:,1])\n",
    "roc_auc = auc(false_positive_rate, recall)\n",
    "print('AUC score:', roc_auc)"
   ]
  },
  {
   "cell_type": "code",
   "execution_count": 46,
   "metadata": {
    "colab": {
     "base_uri": "https://localhost:8080/",
     "height": 191
    },
    "colab_type": "code",
    "executionInfo": {
     "elapsed": 367,
     "status": "ok",
     "timestamp": 1576268268097,
     "user": {
      "displayName": "Khyathi Balusu",
      "photoUrl": "",
      "userId": "16107378939378587927"
     },
     "user_tz": 360
    },
    "id": "RAMrVn9o5zwC",
    "outputId": "519c4f34-90a3-4142-e186-79d8bdbbff3f"
   },
   "outputs": [
    {
     "name": "stdout",
     "output_type": "stream",
     "text": [
      "              precision    recall  f1-score   support\n",
      "\n",
      "           0       0.83      0.83      0.83        24\n",
      "           1       0.82      0.82      0.82        22\n",
      "\n",
      "    accuracy                           0.83        46\n",
      "   macro avg       0.83      0.83      0.83        46\n",
      "weighted avg       0.83      0.83      0.83        46\n",
      "\n",
      "F1 Score:  0.8181818181818182\n"
     ]
    }
   ],
   "source": [
    "print(classification_report(y_test, y_pred))\n",
    "print(\"F1 Score: \", f1_score(y_test, y_pred))"
   ]
  },
  {
   "cell_type": "code",
   "execution_count": 47,
   "metadata": {
    "colab": {
     "base_uri": "https://localhost:8080/",
     "height": 607
    },
    "colab_type": "code",
    "executionInfo": {
     "elapsed": 841,
     "status": "ok",
     "timestamp": 1576268281040,
     "user": {
      "displayName": "Khyathi Balusu",
      "photoUrl": "",
      "userId": "16107378939378587927"
     },
     "user_tz": 360
    },
    "id": "76RqdadI51XM",
    "outputId": "c13b1339-6340-44d7-fc64-521b42bb186b"
   },
   "outputs": [
    {
     "data": {
      "text/plain": [
       "<matplotlib.axes._subplots.AxesSubplot at 0x1b09b3d8978>"
      ]
     },
     "execution_count": 47,
     "metadata": {},
     "output_type": "execute_result"
    },
    {
     "data": {
      "image/png": "[encoded data removed]",
      "text/plain": [
       "<Figure size 432x288 with 1 Axes>"
      ]
     },
     "metadata": {
      "needs_background": "light"
     },
     "output_type": "display_data"
    }
   ],
   "source": [
    "feat_importances = pd.Series(xgbClassification.feature_importances_, index=X_train.columns)\n",
    "feat_importances.sort_values(ascending=False).plot(kind='bar')"
   ]
  },
  {
   "cell_type": "markdown",
   "metadata": {
    "colab_type": "text",
    "id": "q-RlAHjZFnIf"
   },
   "source": [
    "# XGB - Model and then split the prediction based on threshold\n",
    "\n",
    "modelled with y variable as continuous variable"
   ]
  },
  {
   "cell_type": "code",
   "execution_count": 48,
   "metadata": {
    "colab": {},
    "colab_type": "code",
    "id": "NjOV5eF4bmkq"
   },
   "outputs": [],
   "source": [
    "df2=df.drop(['Date','y_var','Y variable','Sum of Conversions','Sum of UniquePageview','Year', 'Sum of User','Day of Week','Month','Day'],axis=1)\n"
   ]
  },
  {
   "cell_type": "code",
   "execution_count": 49,
   "metadata": {
    "colab": {},
    "colab_type": "code",
    "id": "0ZGkjeAHbmii"
   },
   "outputs": [],
   "source": [
    "df2=pd.get_dummies(df2,drop_first=True)\n",
    "X_reg = df2.drop(columns='% of conv')\n",
    "y_reg = df2['% of conv']\n",
    "X_train_reg, X_test_reg, y_train_reg, y_test_reg = train_test_split(X_reg,y_reg,test_size=0.3, random_state=42)"
   ]
  },
  {
   "cell_type": "code",
   "execution_count": 50,
   "metadata": {
    "colab": {
     "base_uri": "https://localhost:8080/",
     "height": 191
    },
    "colab_type": "code",
    "executionInfo": {
     "elapsed": 3739,
     "status": "ok",
     "timestamp": 1576267211195,
     "user": {
      "displayName": "Khyathi Balusu",
      "photoUrl": "",
      "userId": "16107378939378587927"
     },
     "user_tz": 360
    },
    "id": "m1w7EgaAbmen",
    "outputId": "d63849ee-3110-4c52-b2a8-927e494b6a8c"
   },
   "outputs": [
    {
     "name": "stdout",
     "output_type": "stream",
     "text": [
      "[15:46:23] WARNING: C:/Jenkins/workspace/xgboost-win64_release_0.90/src/objective/regression_obj.cu:152: reg:linear is now deprecated in favor of reg:squarederror.\n"
     ]
    },
    {
     "name": "stderr",
     "output_type": "stream",
     "text": [
      "C:\\Users\\aadia\\Anaconda3\\lib\\site-packages\\xgboost\\core.py:587: FutureWarning: Series.base is deprecated and will be removed in a future version\n",
      "  if getattr(data, 'base', None) is not None and \\\n"
     ]
    },
    {
     "data": {
      "text/plain": [
       "XGBRegressor(base_score=0.5, booster='gbtree', colsample_bylevel=1,\n",
       "             colsample_bynode=1, colsample_bytree=1, gamma=0,\n",
       "             importance_type='gain', learning_rate=0.1, max_delta_step=0,\n",
       "             max_depth=3, min_child_weight=1, missing=None, n_estimators=100,\n",
       "             n_jobs=1, nthread=None, objective='reg:linear', random_state=42,\n",
       "             reg_alpha=0, reg_lambda=1, scale_pos_weight=1, seed=None,\n",
       "             silent=None, subsample=1, verbosity=1)"
      ]
     },
     "execution_count": 50,
     "metadata": {},
     "output_type": "execute_result"
    }
   ],
   "source": [
    "xgb_reg = xgb.XGBRegressor(random_state=42)\n",
    "xgb_reg.fit(X_train_reg, y_train_reg)"
   ]
  },
  {
   "cell_type": "code",
   "execution_count": 51,
   "metadata": {
    "colab": {},
    "colab_type": "code",
    "id": "e0fVqSy2bmcE"
   },
   "outputs": [],
   "source": [
    "y_pred_reg = xgb_reg.predict(X_test_reg)\n",
    "y_pred_reg_tr = xgb_reg.predict(X_train_reg)\n",
    "#y_pred_reg"
   ]
  },
  {
   "cell_type": "code",
   "execution_count": 52,
   "metadata": {
    "colab": {
     "base_uri": "https://localhost:8080/",
     "height": 52
    },
    "colab_type": "code",
    "executionInfo": {
     "elapsed": 3730,
     "status": "ok",
     "timestamp": 1576267211202,
     "user": {
      "displayName": "Khyathi Balusu",
      "photoUrl": "",
      "userId": "16107378939378587927"
     },
     "user_tz": 360
    },
    "id": "pUUe5BQ0bmZ2",
    "outputId": "568a88aa-e2b0-4a42-cec5-71be1d6530e6"
   },
   "outputs": [
    {
     "name": "stdout",
     "output_type": "stream",
     "text": [
      "RMSE test: 0.000708\n",
      "RMSE train: 0.000415\n"
     ]
    }
   ],
   "source": [
    "rmse = np.sqrt(mean_squared_error(y_test_reg, y_pred_reg))\n",
    "rmse_tr = np.sqrt(mean_squared_error(y_train_reg, y_pred_reg_tr))\n",
    "print(\"RMSE test: %f\" % (rmse))\n",
    "print(\"RMSE train: %f\" % (rmse_tr))"
   ]
  },
  {
   "cell_type": "code",
   "execution_count": 53,
   "metadata": {
    "colab": {},
    "colab_type": "code",
    "id": "4QJL6lA6bmXt"
   },
   "outputs": [],
   "source": [
    "y_pred_reg_class=np.where(y_pred_reg>df['% of conv'].mean(),1,0)"
   ]
  },
  {
   "cell_type": "code",
   "execution_count": 54,
   "metadata": {
    "colab": {
     "base_uri": "https://localhost:8080/",
     "height": 127
    },
    "colab_type": "code",
    "executionInfo": {
     "elapsed": 3834,
     "status": "ok",
     "timestamp": 1576267211325,
     "user": {
      "displayName": "Khyathi Balusu",
      "photoUrl": "",
      "userId": "16107378939378587927"
     },
     "user_tz": 360
    },
    "id": "p7xDVwbxbmT-",
    "outputId": "0bb5f61b-bcb3-47e4-c071-9f7033398e9e"
   },
   "outputs": [
    {
     "name": "stdout",
     "output_type": "stream",
     "text": [
      "Confusion matrix when threshold is default = 0.5\n"
     ]
    },
    {
     "data": {
      "text/html": [
       "<div>\n",
       "<style scoped>\n",
       "    .dataframe tbody tr th:only-of-type {\n",
       "        vertical-align: middle;\n",
       "    }\n",
       "\n",
       "    .dataframe tbody tr th {\n",
       "        vertical-align: top;\n",
       "    }\n",
       "\n",
       "    .dataframe thead th {\n",
       "        text-align: right;\n",
       "    }\n",
       "</style>\n",
       "<table border=\"1\" class=\"dataframe\">\n",
       "  <thead>\n",
       "    <tr style=\"text-align: right;\">\n",
       "      <th></th>\n",
       "      <th>pred(neg)</th>\n",
       "      <th>pred(pos)</th>\n",
       "    </tr>\n",
       "  </thead>\n",
       "  <tbody>\n",
       "    <tr>\n",
       "      <th>0</th>\n",
       "      <td>22</td>\n",
       "      <td>2</td>\n",
       "    </tr>\n",
       "    <tr>\n",
       "      <th>1</th>\n",
       "      <td>5</td>\n",
       "      <td>17</td>\n",
       "    </tr>\n",
       "  </tbody>\n",
       "</table>\n",
       "</div>"
      ],
      "text/plain": [
       "   pred(neg)  pred(pos)\n",
       "0         22          2\n",
       "1          5         17"
      ]
     },
     "execution_count": 54,
     "metadata": {},
     "output_type": "execute_result"
    }
   ],
   "source": [
    "con = confusion_matrix(y_test,y_pred_reg_class)\n",
    "\n",
    "print(\"Confusion matrix when threshold is default = 0.5\")\n",
    "pd.DataFrame(con, columns=['pred(neg)', 'pred(pos)'])"
   ]
  },
  {
   "cell_type": "code",
   "execution_count": 55,
   "metadata": {
    "colab": {
     "base_uri": "https://localhost:8080/",
     "height": 225
    },
    "colab_type": "code",
    "executionInfo": {
     "elapsed": 3826,
     "status": "ok",
     "timestamp": 1576267211327,
     "user": {
      "displayName": "Khyathi Balusu",
      "photoUrl": "",
      "userId": "16107378939378587927"
     },
     "user_tz": 360
    },
    "id": "oO7kWtUebmRQ",
    "outputId": "14c729b5-c84e-4547-c413-ec2dc88eaa30"
   },
   "outputs": [
    {
     "name": "stdout",
     "output_type": "stream",
     "text": [
      "Classification report for normal XGB classifier\n",
      "F1 Score:  0.8292682926829269\n",
      "\n",
      "              precision    recall  f1-score   support\n",
      "\n",
      "           0       0.81      0.92      0.86        24\n",
      "           1       0.89      0.77      0.83        22\n",
      "\n",
      "    accuracy                           0.85        46\n",
      "   macro avg       0.85      0.84      0.85        46\n",
      "weighted avg       0.85      0.85      0.85        46\n",
      "\n"
     ]
    }
   ],
   "source": [
    "#normal model\n",
    "print(\"Classification report for normal XGB classifier\")\n",
    "print(\"F1 Score: \", f1_score(y_test, y_pred_reg_class))\n",
    "#print(\"AUROC: \", roc_auc_score(y_test, y_pred_prob[:,1]))\n",
    "print()\n",
    "print(classification_report(y_test, y_pred_reg_class))"
   ]
  },
  {
   "cell_type": "markdown",
   "metadata": {
    "colab_type": "text",
    "id": "XJKrKGkz_mSv"
   },
   "source": [
    "The recall is high as compared to the previous xgboost result as it has been modelled with y-variable as a continuous variable. In the previous case, we were losing information."
   ]
  },
  {
   "cell_type": "code",
   "execution_count": 56,
   "metadata": {
    "colab": {
     "base_uri": "https://localhost:8080/",
     "height": 609
    },
    "colab_type": "code",
    "executionInfo": {
     "elapsed": 4413,
     "status": "ok",
     "timestamp": 1576267211933,
     "user": {
      "displayName": "Khyathi Balusu",
      "photoUrl": "",
      "userId": "16107378939378587927"
     },
     "user_tz": 360
    },
    "id": "n8-WWspubmO5",
    "outputId": "caf47727-321e-46a1-befb-046f71559a48"
   },
   "outputs": [
    {
     "data": {
      "text/plain": [
       "<matplotlib.axes._subplots.AxesSubplot at 0x1b09b6e69b0>"
      ]
     },
     "execution_count": 56,
     "metadata": {},
     "output_type": "execute_result"
    },
    {
     "data": {
      "image/png": "[encoded data removed]",
      "text/plain": [
       "<Figure size 720x720 with 1 Axes>"
      ]
     },
     "metadata": {
      "needs_background": "light"
     },
     "output_type": "display_data"
    }
   ],
   "source": [
    "feat_importances = pd.Series(xgb_reg.feature_importances_, index=X_train.columns)\n",
    "plt.figure(figsize=(10,10))\n",
    "feat_importances.sort_values().plot(kind='barh',color='c')"
   ]
  }
 ],
 "metadata": {
  "colab": {
   "collapsed_sections": [],
   "name": "summary_models_collated.ipynb",
   "provenance": []
  },
  "kernelspec": {
   "display_name": "Python 3",
   "language": "python",
   "name": "python3"
  },
  "language_info": {
   "codemirror_mode": {
    "name": "ipython",
    "version": 3
   },
   "file_extension": ".py",
   "mimetype": "text/x-python",
   "name": "python",
   "nbconvert_exporter": "python",
   "pygments_lexer": "ipython3",
   "version": "3.7.3"
  }
 },
 "nbformat": 4,
 "nbformat_minor": 1
}
