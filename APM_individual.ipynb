{
 "cells": [
  {
   "cell_type": "code",
   "execution_count": 1,
   "metadata": {
    "colab": {},
    "colab_type": "code",
    "id": "66vYxm1-IslK"
   },
   "outputs": [],
   "source": [
    "import pandas as pd\n",
    "from sklearn.model_selection import train_test_split\n",
    "from sklearn.metrics import roc_curve, roc_auc_score, f1_score\n",
    "from sklearn.naive_bayes import GaussianNB\n",
    "from sklearn.linear_model import LogisticRegression\n",
    "from sklearn.neural_network import MLPClassifier\n",
    "from sklearn.tree import DecisionTreeClassifier\n",
    "from sklearn.ensemble import RandomForestClassifier\n",
    "import numpy as np\n",
    "import matplotlib.pyplot as plt\n",
    "import seaborn as sns\n",
    "from sklearn.pipeline import Pipeline, FeatureUnion\n",
    "import warnings\n",
    "warnings.filterwarnings('ignore')\n",
    "import seaborn as sns\n",
    "from sklearn.model_selection import GridSearchCV\n",
    "from sklearn.metrics import f1_score\n",
    "from sklearn.metrics import roc_auc_score\n",
    "from sklearn.metrics import classification_report\n",
    "from pandas import Series, DataFrame\n",
    "import xgboost as xgb"
   ]
  },
  {
   "cell_type": "markdown",
   "metadata": {
    "colab_type": "text",
    "id": "fSG4NmrPRRLp"
   },
   "source": [
    "#Individual level data "
   ]
  },
  {
   "cell_type": "code",
   "execution_count": 2,
   "metadata": {
    "colab": {},
    "colab_type": "code",
    "id": "w4vMmhTnIslO",
    "scrolled": true
   },
   "outputs": [],
   "source": [
    "df = pd.read_csv('client_individual.csv', delimiter=',') #User-Session level conversion file\n",
    "df.shape\n",
    "df.head()\n",
    "df=df.dropna()"
   ]
  },
  {
   "cell_type": "code",
   "execution_count": 3,
   "metadata": {
    "colab": {},
    "colab_type": "code",
    "id": "JEL-WzQQIslU",
    "outputId": "ca91e261-3800-461a-e544-7490b4a323b6"
   },
   "outputs": [
    {
     "data": {
      "text/plain": [
       "sl_userid                object\n",
       "sl_sessionid             object\n",
       "fullReferrer             object\n",
       "campaign                 object\n",
       "medium                   object\n",
       "channelGrouping          object\n",
       "userType                 object\n",
       "adContent                object\n",
       "avg_bounce_rate         float64\n",
       "operatingSystem          object\n",
       "browser                  object\n",
       "deviceCategory           object\n",
       "region                   object\n",
       "metro                    object\n",
       "city                     object\n",
       "latitude                float64\n",
       "longitude               float64\n",
       "networkLocation          object\n",
       "regionIsoCode            object\n",
       "avg_pricing_duration    float64\n",
       "pagePath                  int64\n",
       "dtype: object"
      ]
     },
     "execution_count": 3,
     "metadata": {},
     "output_type": "execute_result"
    }
   ],
   "source": [
    "df.dtypes"
   ]
  },
  {
   "cell_type": "markdown",
   "metadata": {
    "colab_type": "text",
    "id": "6GId0JHDIslX"
   },
   "source": [
    "# Correlation"
   ]
  },
  {
   "cell_type": "code",
   "execution_count": 4,
   "metadata": {
    "colab": {
     "base_uri": "https://localhost:8080/",
     "height": 381
    },
    "colab_type": "code",
    "id": "qWJPDbvkIslY",
    "outputId": "d74ebd9e-96a2-4712-e636-3421148e875b"
   },
   "outputs": [
    {
     "data": {
      "text/plain": [
       "<matplotlib.axes._subplots.AxesSubplot at 0x2096d7c82e8>"
      ]
     },
     "execution_count": 4,
     "metadata": {},
     "output_type": "execute_result"
    },
    {
     "data": {
      "image/png": "[encoded data removed]",
      "text/plain": [
       "<Figure size 432x288 with 2 Axes>"
      ]
     },
     "metadata": {
      "needs_background": "light"
     },
     "output_type": "display_data"
    }
   ],
   "source": [
    "sns.heatmap(df.corr(),cmap=\"YlGnBu\",annot=True)"
   ]
  },
  {
   "cell_type": "markdown",
   "metadata": {
    "colab_type": "text",
    "id": "eYHA8YYVIsla"
   },
   "source": [
    "This gives correlation between only continuous variables. "
   ]
  },
  {
   "cell_type": "markdown",
   "metadata": {
    "colab_type": "text",
    "id": "9gzLbFjnIsln"
   },
   "source": [
    "# Setting up x and y"
   ]
  },
  {
   "cell_type": "code",
   "execution_count": 5,
   "metadata": {
    "colab": {
     "base_uri": "https://localhost:8080/",
     "height": 70
    },
    "colab_type": "code",
    "id": "bA3AC_6gIslo",
    "outputId": "88232944-96c4-441d-aee2-07c8e63acdde"
   },
   "outputs": [
    {
     "data": {
      "text/plain": [
       "0    97.916853\n",
       "1     2.083147\n",
       "Name: pagePath, dtype: float64"
      ]
     },
     "execution_count": 5,
     "metadata": {},
     "output_type": "execute_result"
    }
   ],
   "source": [
    "y = df['pagePath']\n",
    "x = df[['avg_bounce_rate', 'avg_pricing_duration','fullReferrer','channelGrouping', 'userType', 'deviceCategory', 'city', 'networkLocation']]\n",
    "y.value_counts()*100/len(y) "
   ]
  },
  {
   "cell_type": "markdown",
   "metadata": {
    "colab_type": "text",
    "id": "Qv8LqqFtSb95"
   },
   "source": [
    "This is a imbalanced dataset,with the minority class being just 2.4% "
   ]
  },
  {
   "cell_type": "code",
   "execution_count": 6,
   "metadata": {
    "colab": {},
    "colab_type": "code",
    "id": "31spfb0xIslp"
   },
   "outputs": [],
   "source": [
    "X=pd.get_dummies(x,drop_first=True)   # converting categorical variables to dummy variables"
   ]
  },
  {
   "cell_type": "code",
   "execution_count": 7,
   "metadata": {
    "colab": {},
    "colab_type": "code",
    "id": "9DTUf_GqIslr"
   },
   "outputs": [],
   "source": [
    "x_train, x_test, y_train, y_test = train_test_split(X, y, test_size = 0.3, random_state = 42, stratify=y)  "
   ]
  },
  {
   "cell_type": "markdown",
   "metadata": {
    "colab_type": "text",
    "id": "mRflmCcbTI5o"
   },
   "source": [
    "Using 'stratify' to split into test and train dataset because it is a imbalanced dataset"
   ]
  },
  {
   "cell_type": "markdown",
   "metadata": {
    "colab_type": "text",
    "id": "epmcVLOTIslt"
   },
   "source": [
    "# Logistic Regression"
   ]
  },
  {
   "cell_type": "markdown",
   "metadata": {
    "colab_type": "text",
    "id": "DYP8Nwsen1ka"
   },
   "source": [
    "### Choosing between different models: Here below there are 4 models : \n",
    "1. logistic regression model of threshold = 0.3\n",
    "2. logistic regression with l1 regularisation  and threshold = 0.3\n",
    "3. logistic regression with class weight = 'balanced'  and threshold = 0.5\n",
    "4. logistic regression with l1 regularisation,class weight = 'balanced'  and threshold = 0.5"
   ]
  },
  {
   "cell_type": "code",
   "execution_count": 8,
   "metadata": {
    "colab": {},
    "colab_type": "code",
    "id": "QJfcdC0xIslt",
    "scrolled": false
   },
   "outputs": [],
   "source": [
    "lr_clf = LogisticRegression(random_state=42)\n",
    "lr_clf_reg = LogisticRegression(random_state=42,penalty='l1')\n",
    "lr_clf_bal = LogisticRegression(random_state=42,class_weight='balanced')\n",
    "lr_clf_bal_reg = LogisticRegression(random_state=42,class_weight='balanced',penalty='l1')\n",
    "\n",
    "lr_clf.fit(x_train, y_train)\n",
    "lr_clf_reg.fit(x_train,y_train)\n",
    "lr_clf_bal.fit(x_train,y_train)\n",
    "lr_clf_bal_reg.fit(x_train,y_train)\n",
    "\n",
    "y_pred_prob_tr = lr_clf.predict_proba(x_train)\n",
    "y_pred_prob1_tr = lr_clf_reg.predict_proba(x_train)\n",
    "y_pred_prob2_tr = lr_clf_bal.predict_proba(x_train)\n",
    "y_pred_prob3_tr = lr_clf_bal_reg.predict_proba(x_train)\n",
    "\n",
    "y_pred_prob = lr_clf.predict_proba(x_test)\n",
    "y_pred_prob1 = lr_clf_reg.predict_proba(x_test)\n",
    "y_pred_prob2 = lr_clf_bal.predict_proba(x_test)\n",
    "y_pred_prob3 = lr_clf_bal_reg.predict_proba(x_test)"
   ]
  },
  {
   "cell_type": "code",
   "execution_count": 9,
   "metadata": {
    "colab": {
     "base_uri": "https://localhost:8080/",
     "height": 977
    },
    "colab_type": "code",
    "id": "dUyuO8BUIslv",
    "outputId": "eaaf290b-47a2-40ca-dcb2-a0ff666d3674",
    "scrolled": true
   },
   "outputs": [
    {
     "name": "stdout",
     "output_type": "stream",
     "text": [
      "----------------------------------------normal model------------------------------------------------------\n",
      "Classification report for normal model - train \n",
      "F1 Score:  0.4659606656580938\n",
      "AUROC:  0.9633517252284562\n",
      "\n",
      "              precision    recall  f1-score   support\n",
      "\n",
      "           0       0.99      0.99      0.99     45932\n",
      "           1       0.46      0.47      0.47       977\n",
      "\n",
      "    accuracy                           0.98     46909\n",
      "   macro avg       0.72      0.73      0.73     46909\n",
      "weighted avg       0.98      0.98      0.98     46909\n",
      "\n",
      "Classification report for normal model - test \n",
      "F1 Score:  0.35406698564593303\n",
      "AUROC:  0.9550303730380821\n",
      "\n",
      "              precision    recall  f1-score   support\n",
      "\n",
      "           0       0.99      0.99      0.99     19686\n",
      "           1       0.35      0.35      0.35       419\n",
      "\n",
      "    accuracy                           0.97     20105\n",
      "   macro avg       0.67      0.67      0.67     20105\n",
      "weighted avg       0.97      0.97      0.97     20105\n",
      "\n",
      "----------------------------------------l2 regularized model------------------------------------------------------\n",
      "Classification report for reg model - train \n",
      "F1 Score:  0.4284987277353689\n",
      "AUROC:  0.9595339013455073\n",
      "\n",
      "              precision    recall  f1-score   support\n",
      "\n",
      "           0       0.99      0.99      0.99     45932\n",
      "           1       0.43      0.43      0.43       977\n",
      "\n",
      "    accuracy                           0.98     46909\n",
      "   macro avg       0.71      0.71      0.71     46909\n",
      "weighted avg       0.98      0.98      0.98     46909\n",
      "\n",
      "Classification report for reg model- test \n",
      "F1 Score:  0.36172695449241543\n",
      "AUROC:  0.9552591437356472\n",
      "\n",
      "              precision    recall  f1-score   support\n",
      "\n",
      "           0       0.99      0.99      0.99     19686\n",
      "           1       0.35      0.37      0.36       419\n",
      "\n",
      "    accuracy                           0.97     20105\n",
      "   macro avg       0.67      0.68      0.67     20105\n",
      "weighted avg       0.97      0.97      0.97     20105\n",
      "\n"
     ]
    }
   ],
   "source": [
    "y_pred_tr=np.where(y_pred_prob_tr[:,1]>0.3,1,0)\n",
    "y_pred1_tr=np.where(y_pred_prob1_tr[:,1]>0.3,1,0)\n",
    "y_pred2_tr=np.where(y_pred_prob2_tr[:,1]>0.5,1,0)\n",
    "y_pred3_tr=np.where(y_pred_prob3_tr[:,1]>0.5,1,0)\n",
    "\n",
    "\n",
    "y_pred=np.where(y_pred_prob[:,1]>0.3,1,0)\n",
    "y_pred1=np.where(y_pred_prob1[:,1]>0.3,1,0)\n",
    "y_pred2=np.where(y_pred_prob2[:,1]>0.5,1,0)\n",
    "y_pred3=np.where(y_pred_prob3[:,1]>0.5,1,0)\n",
    "\n",
    "print('----------------------------------------normal model------------------------------------------------------')\n",
    "#normal model\n",
    "#train\n",
    "print(\"Classification report for normal model - train \")\n",
    "print(\"F1 Score: \", f1_score(y_train, y_pred_tr))\n",
    "print(\"AUROC: \", roc_auc_score(y_train, y_pred_prob_tr[:,1]))\n",
    "print()\n",
    "print(classification_report(y_train, y_pred_tr))\n",
    "\n",
    "#test\n",
    "print(\"Classification report for normal model - test \")\n",
    "print(\"F1 Score: \", f1_score(y_test, y_pred))\n",
    "print(\"AUROC: \", roc_auc_score(y_test, y_pred_prob[:,1]))\n",
    "print()\n",
    "print(classification_report(y_test, y_pred))\n",
    "\n",
    "print('----------------------------------------l2 regularized model------------------------------------------------------')\n",
    "\n",
    "#l2 regularized model\n",
    "#train\n",
    "print(\"Classification report for reg model - train \")\n",
    "print(\"F1 Score: \", f1_score(y_train, y_pred1_tr))\n",
    "print(\"AUROC: \", roc_auc_score(y_train, y_pred_prob1_tr[:,1]))\n",
    "print()\n",
    "print(classification_report(y_train, y_pred1_tr))\n",
    "\n",
    "#test\n",
    "print(\"Classification report for reg model- test \")\n",
    "print(\"F1 Score: \", f1_score(y_test, y_pred1))\n",
    "print(\"AUROC: \", roc_auc_score(y_test, y_pred_prob1[:,1]))\n",
    "print()\n",
    "print(classification_report(y_test, y_pred1))\n",
    "\n"
   ]
  },
  {
   "cell_type": "code",
   "execution_count": 10,
   "metadata": {
    "colab": {
     "base_uri": "https://localhost:8080/",
     "height": 977
    },
    "colab_type": "code",
    "id": "WhJj7DhjiQaG",
    "outputId": "0506b822-ca31-4568-ff63-d842da73487c"
   },
   "outputs": [
    {
     "name": "stdout",
     "output_type": "stream",
     "text": [
      "----------------------------------------balanced model------------------------------------------------------\n",
      "Classification report for balanced model- train \n",
      "F1 Score:  0.30848930481283426\n",
      "AUROC:  0.9704618085691358\n",
      "\n",
      "              precision    recall  f1-score   support\n",
      "\n",
      "           0       1.00      0.91      0.95     45932\n",
      "           1       0.18      0.94      0.31       977\n",
      "\n",
      "    accuracy                           0.91     46909\n",
      "   macro avg       0.59      0.93      0.63     46909\n",
      "weighted avg       0.98      0.91      0.94     46909\n",
      "\n",
      "Classification report for balanced model- test\n",
      "F1 Score:  0.28950448692937963\n",
      "AUROC:  0.9550243112813899\n",
      "\n",
      "              precision    recall  f1-score   support\n",
      "\n",
      "           0       1.00      0.91      0.95     19686\n",
      "           1       0.17      0.89      0.29       419\n",
      "\n",
      "    accuracy                           0.91     20105\n",
      "   macro avg       0.59      0.90      0.62     20105\n",
      "weighted avg       0.98      0.91      0.94     20105\n",
      "\n",
      "----------------------------------------balanced - l2 reg model------------------------------------------------------\n",
      "Classification report for balanced reg model- train\n",
      "F1 Score:  0.31235194585448395\n",
      "AUROC:  0.9709813452149594\n",
      "\n",
      "              precision    recall  f1-score   support\n",
      "\n",
      "           0       1.00      0.91      0.95     45932\n",
      "           1       0.19      0.94      0.31       977\n",
      "\n",
      "    accuracy                           0.91     46909\n",
      "   macro avg       0.59      0.93      0.63     46909\n",
      "weighted avg       0.98      0.91      0.94     46909\n",
      "\n",
      "Classification report for balanced reg model - test \n",
      "F1 Score:  0.29151732377538836\n",
      "AUROC:  0.9521064846975802\n",
      "\n",
      "              precision    recall  f1-score   support\n",
      "\n",
      "           0       1.00      0.91      0.95     19686\n",
      "           1       0.17      0.87      0.29       419\n",
      "\n",
      "    accuracy                           0.91     20105\n",
      "   macro avg       0.59      0.89      0.62     20105\n",
      "weighted avg       0.98      0.91      0.94     20105\n",
      "\n"
     ]
    }
   ],
   "source": [
    "print('----------------------------------------balanced model------------------------------------------------------')\n",
    "\n",
    "# balanced model\n",
    "#train\n",
    "print(\"Classification report for balanced model- train \")\n",
    "print(\"F1 Score: \", f1_score(y_train, y_pred2_tr))\n",
    "print(\"AUROC: \", roc_auc_score(y_train, y_pred_prob2_tr[:,1]))\n",
    "print()\n",
    "print(classification_report(y_train, y_pred2_tr))\n",
    "\n",
    "#test\n",
    "print(\"Classification report for balanced model- test\")\n",
    "print(\"F1 Score: \", f1_score(y_test, y_pred2))\n",
    "print(\"AUROC: \", roc_auc_score(y_test, y_pred_prob2[:,1]))\n",
    "print()\n",
    "print(classification_report(y_test, y_pred2))\n",
    "\n",
    "print('----------------------------------------balanced - l2 reg model------------------------------------------------------')\n",
    "\n",
    "#balanced - l2 reg model\n",
    "#train\n",
    "print(\"Classification report for balanced reg model- train\")\n",
    "print(\"F1 Score: \", f1_score(y_train, y_pred3_tr))\n",
    "print(\"AUROC: \", roc_auc_score(y_train, y_pred_prob3_tr[:,1]))\n",
    "print()\n",
    "print(classification_report(y_train, y_pred3_tr))\n",
    "\n",
    "#test\n",
    "print(\"Classification report for balanced reg model - test \")\n",
    "print(\"F1 Score: \", f1_score(y_test, y_pred3))\n",
    "print(\"AUROC: \", roc_auc_score(y_test, y_pred_prob3[:,1]))\n",
    "print()\n",
    "print(classification_report(y_test, y_pred3))"
   ]
  },
  {
   "cell_type": "markdown",
   "metadata": {
    "colab_type": "text",
    "id": "ivwZiHqP848t"
   },
   "source": [
    "The best model is one which is class_weight as balanced and has a threshold of 0.5. It has a recall of 0.86 and precision of 0.17 for test data."
   ]
  },
  {
   "cell_type": "markdown",
   "metadata": {
    "colab_type": "text",
    "id": "ud0XLGoeIslx"
   },
   "source": [
    "# Feature importance"
   ]
  },
  {
   "cell_type": "code",
   "execution_count": 11,
   "metadata": {
    "colab": {
     "base_uri": "https://localhost:8080/",
     "height": 200
    },
    "colab_type": "code",
    "id": "0Xsxfav1Isly",
    "outputId": "68f43258-c921-4d92-c89c-578be302139d"
   },
   "outputs": [
    {
     "data": {
      "text/html": [
       "<div>\n",
       "<style scoped>\n",
       "    .dataframe tbody tr th:only-of-type {\n",
       "        vertical-align: middle;\n",
       "    }\n",
       "\n",
       "    .dataframe tbody tr th {\n",
       "        vertical-align: top;\n",
       "    }\n",
       "\n",
       "    .dataframe thead th {\n",
       "        text-align: right;\n",
       "    }\n",
       "</style>\n",
       "<table border=\"1\" class=\"dataframe\">\n",
       "  <thead>\n",
       "    <tr style=\"text-align: right;\">\n",
       "      <th></th>\n",
       "      <th>weights</th>\n",
       "      <th>weights_abs</th>\n",
       "    </tr>\n",
       "  </thead>\n",
       "  <tbody>\n",
       "    <tr>\n",
       "      <th>networkLocation_amanah tech inc.</th>\n",
       "      <td>9.104657</td>\n",
       "      <td>9.104657</td>\n",
       "    </tr>\n",
       "    <tr>\n",
       "      <th>fullReferrer_myxyz.sharepoint.com/_layouts/15/sharepoint.aspx</th>\n",
       "      <td>8.505593</td>\n",
       "      <td>8.505593</td>\n",
       "    </tr>\n",
       "    <tr>\n",
       "      <th>fullReferrer_d2a952y4d7suw.cloudfront.net/</th>\n",
       "      <td>8.240697</td>\n",
       "      <td>8.240697</td>\n",
       "    </tr>\n",
       "    <tr>\n",
       "      <th>networkLocation_abilene christian university</th>\n",
       "      <td>8.133178</td>\n",
       "      <td>8.133178</td>\n",
       "    </tr>\n",
       "    <tr>\n",
       "      <th>city_Kirkland</th>\n",
       "      <td>7.970729</td>\n",
       "      <td>7.970729</td>\n",
       "    </tr>\n",
       "  </tbody>\n",
       "</table>\n",
       "</div>"
      ],
      "text/plain": [
       "                                                     weights  weights_abs\n",
       "networkLocation_amanah tech inc.                    9.104657     9.104657\n",
       "fullReferrer_myxyz.sharepoint.com/_layouts/15/s...  8.505593     8.505593\n",
       "fullReferrer_d2a952y4d7suw.cloudfront.net/          8.240697     8.240697\n",
       "networkLocation_abilene christian university        8.133178     8.133178\n",
       "city_Kirkland                                       7.970729     7.970729"
      ]
     },
     "execution_count": 11,
     "metadata": {},
     "output_type": "execute_result"
    }
   ],
   "source": [
    "#the reg bal model\n",
    "weights = Series(lr_clf_bal_reg.coef_[0],\n",
    "                 index=x_train.columns.values)\n",
    "weights.sort_values()\n",
    "weights2 = DataFrame(dict(weights = weights, weights_abs = weights.abs()))\n",
    "weights2=weights2.sort_values(by='weights_abs',ascending=False)\n",
    "weights2.head()"
   ]
  },
  {
   "cell_type": "markdown",
   "metadata": {
    "colab_type": "text",
    "id": "SvSIKde9Islz"
   },
   "source": [
    "This seems to be right when looked at % of conversions from these."
   ]
  },
  {
   "cell_type": "code",
   "execution_count": 12,
   "metadata": {
    "colab": {
     "base_uri": "https://localhost:8080/",
     "height": 52
    },
    "colab_type": "code",
    "id": "CFaZmfKDIsl2",
    "outputId": "dc12058a-f22a-41db-8d82-0a625b053438"
   },
   "outputs": [
    {
     "name": "stdout",
     "output_type": "stream",
     "text": [
      "Total number of features: 3661\n",
      "Number of non-zero weight features is: 330\n"
     ]
    }
   ],
   "source": [
    "print(\"Total number of features:\", len(weights2['weights_abs']))\n",
    "print(\"Number of non-zero weight features is:\", (weights2['weights_abs']>0).sum())"
   ]
  },
  {
   "cell_type": "code",
   "execution_count": 13,
   "metadata": {
    "colab": {},
    "colab_type": "code",
    "id": "6B99kjSqIsl4"
   },
   "outputs": [],
   "source": [
    "weights2.to_csv('weights2.csv')"
   ]
  },
  {
   "cell_type": "markdown",
   "metadata": {
    "colab_type": "text",
    "id": "aQSFRxlQIsl5"
   },
   "source": [
    "# Random Forest"
   ]
  },
  {
   "cell_type": "code",
   "execution_count": 14,
   "metadata": {
    "colab": {},
    "colab_type": "code",
    "id": "AYoKAL2OIsl6",
    "scrolled": true
   },
   "outputs": [],
   "source": [
    "rf_clf = RandomForestClassifier(random_state=70)\n",
    "rf_clf_bal = RandomForestClassifier(class_weight='balanced',random_state=70)\n",
    "\n",
    "rf_clf.fit(x_train, y_train)\n",
    "rf_clf_bal.fit(x_train, y_train)\n",
    "\n",
    "y_pred_prob = rf_clf.predict_proba(x_test)\n",
    "y_pred_prob1 = rf_clf_bal.predict_proba(x_test)"
   ]
  },
  {
   "cell_type": "code",
   "execution_count": 15,
   "metadata": {
    "colab": {
     "base_uri": "https://localhost:8080/",
     "height": 479
    },
    "colab_type": "code",
    "id": "3mNS8l5MIsl8",
    "outputId": "e289bdc3-b74d-473e-d3dc-b2f0b60b31f3"
   },
   "outputs": [
    {
     "name": "stdout",
     "output_type": "stream",
     "text": [
      "Classification report for normal RF classifier\n",
      "F1 Score:  0.39181916038751347\n",
      "AUROC:  0.8785793157828504\n",
      "\n",
      "              precision    recall  f1-score   support\n",
      "\n",
      "           0       0.99      0.98      0.99     19686\n",
      "           1       0.36      0.43      0.39       419\n",
      "\n",
      "    accuracy                           0.97     20105\n",
      "   macro avg       0.67      0.71      0.69     20105\n",
      "weighted avg       0.97      0.97      0.97     20105\n",
      "\n",
      "Classification report for balanced RF classifier\n",
      "F1 Score:  0.38699186991869916\n",
      "AUROC:  0.8798229457858304\n",
      "\n",
      "              precision    recall  f1-score   support\n",
      "\n",
      "           0       0.99      0.97      0.98     19686\n",
      "           1       0.29      0.57      0.39       419\n",
      "\n",
      "    accuracy                           0.96     20105\n",
      "   macro avg       0.64      0.77      0.68     20105\n",
      "weighted avg       0.98      0.96      0.97     20105\n",
      "\n"
     ]
    }
   ],
   "source": [
    "y_pred=np.where(y_pred_prob[:,1]>0.3,1,0)\n",
    "y_pred1=np.where(y_pred_prob1[:,1]>0.3,1,0) #lowered the threshold\n",
    "\n",
    "#normal model\n",
    "print(\"Classification report for normal RF classifier\")\n",
    "print(\"F1 Score: \", f1_score(y_test, y_pred))\n",
    "print(\"AUROC: \", roc_auc_score(y_test, y_pred_prob[:,1]))\n",
    "print()\n",
    "print(classification_report(y_test, y_pred))\n",
    "\n",
    "#balanced model\n",
    "print(\"Classification report for balanced RF classifier\")\n",
    "print(\"F1 Score: \", f1_score(y_test, y_pred1))\n",
    "print(\"AUROC: \", roc_auc_score(y_test, y_pred_prob1[:,1]))\n",
    "print()\n",
    "print(classification_report(y_test, y_pred1))"
   ]
  },
  {
   "cell_type": "markdown",
   "metadata": {
    "colab_type": "text",
    "id": "ZRvx1q3xIsl-"
   },
   "source": [
    "Balanced has a higher recall"
   ]
  },
  {
   "cell_type": "markdown",
   "metadata": {
    "colab_type": "text",
    "id": "QOGCpH4WIsl_"
   },
   "source": [
    "# Tuning it further"
   ]
  },
  {
   "cell_type": "code",
   "execution_count": 16,
   "metadata": {
    "colab": {
     "base_uri": "https://localhost:8080/",
     "height": 35
    },
    "colab_type": "code",
    "id": "H11vq0zKIsmA",
    "outputId": "5d296696-90a5-43e2-9ec8-05622dbfa844"
   },
   "outputs": [
    {
     "name": "stdout",
     "output_type": "stream",
     "text": [
      "{'max_depth': 5, 'n_estimators': 10}\n"
     ]
    }
   ],
   "source": [
    "tuned_parameters = [{'n_estimators':[10,20,50],\n",
    "                     'max_depth':[5,10]}]\n",
    "clf1 = GridSearchCV(RandomForestClassifier(), tuned_parameters, cv=5)\n",
    "clf1.fit(x_train, y_train)\n",
    "print(clf1.best_params_)"
   ]
  },
  {
   "cell_type": "code",
   "execution_count": 17,
   "metadata": {
    "colab": {
     "base_uri": "https://localhost:8080/",
     "height": 141
    },
    "colab_type": "code",
    "id": "kkO1NgoLIsmB",
    "outputId": "3dd966fa-1faa-4dfb-8272-d033aeba69af"
   },
   "outputs": [
    {
     "data": {
      "text/plain": [
       "RandomForestClassifier(bootstrap=True, class_weight='balanced',\n",
       "                       criterion='gini', max_depth=5, max_features='auto',\n",
       "                       max_leaf_nodes=None, min_impurity_decrease=0.0,\n",
       "                       min_impurity_split=None, min_samples_leaf=1,\n",
       "                       min_samples_split=2, min_weight_fraction_leaf=0.0,\n",
       "                       n_estimators=10, n_jobs=None, oob_score=False,\n",
       "                       random_state=42, verbose=0, warm_start=False)"
      ]
     },
     "execution_count": 17,
     "metadata": {},
     "output_type": "execute_result"
    }
   ],
   "source": [
    "rf_clf1 = RandomForestClassifier(max_depth= 5,n_estimators= 10,class_weight='balanced',random_state=42)\n",
    "rf_clf1.fit(x_train, y_train)"
   ]
  },
  {
   "cell_type": "code",
   "execution_count": 18,
   "metadata": {
    "colab": {},
    "colab_type": "code",
    "id": "PiTw1v3eIsmD"
   },
   "outputs": [],
   "source": [
    "y_pred_prob = rf_clf1.predict_proba(x_test)\n",
    "y_pred=np.where(y_pred_prob[:,1]>0.5,1,0)"
   ]
  },
  {
   "cell_type": "code",
   "execution_count": 19,
   "metadata": {
    "colab": {
     "base_uri": "https://localhost:8080/",
     "height": 230
    },
    "colab_type": "code",
    "id": "z84V7OeKIsmF",
    "outputId": "a8f85d21-08d5-49b5-e9bd-2bcdef1d40bc"
   },
   "outputs": [
    {
     "name": "stdout",
     "output_type": "stream",
     "text": [
      "F1 Score:  0.13641986216646051\n",
      "AUROC:  0.9069954369520324\n",
      "\n",
      "              precision    recall  f1-score   support\n",
      "\n",
      "           0       1.00      0.75      0.86     19686\n",
      "           1       0.07      0.92      0.14       419\n",
      "\n",
      "    accuracy                           0.76     20105\n",
      "   macro avg       0.54      0.84      0.50     20105\n",
      "weighted avg       0.98      0.76      0.84     20105\n",
      "\n"
     ]
    }
   ],
   "source": [
    "print(\"F1 Score: \", f1_score(y_test, y_pred))\n",
    "print(\"AUROC: \", roc_auc_score(y_test, y_pred_prob[:,1]))\n",
    "print()\n",
    "print(classification_report(y_test, y_pred))"
   ]
  },
  {
   "cell_type": "markdown",
   "metadata": {
    "colab_type": "text",
    "id": "PTxCtsRQIsmG"
   },
   "source": [
    "The tuned model has a higher recall."
   ]
  },
  {
   "cell_type": "markdown",
   "metadata": {
    "colab_type": "text",
    "id": "LcMbNR-KIsmH"
   },
   "source": [
    "# Get Feature Importance for RF"
   ]
  },
  {
   "cell_type": "code",
   "execution_count": 20,
   "metadata": {
    "colab": {
     "base_uri": "https://localhost:8080/",
     "height": 212
    },
    "colab_type": "code",
    "id": "4-ju5bNYIsmH",
    "outputId": "60e5f78b-b991-4eda-926a-c16dc9f0cd69"
   },
   "outputs": [
    {
     "data": {
      "text/plain": [
       "avg_bounce_rate                                   0.129596\n",
       "deviceCategory_mobile                             0.118217\n",
       "avg_pricing_duration                              0.098831\n",
       "fullReferrer_Referrer A.org/en-us/Plan/Results    0.059601\n",
       "channelGrouping_Display                           0.052407\n",
       "channelGrouping_Referral                          0.044227\n",
       "channelGrouping_Paid Search                       0.022346\n",
       "fullReferrer_googleads                            0.021865\n",
       "city_Nashville                                    0.021402\n",
       "userType_Returning Visitor                        0.020421\n",
       "dtype: float64"
      ]
     },
     "execution_count": 20,
     "metadata": {},
     "output_type": "execute_result"
    }
   ],
   "source": [
    "#balanced model before tuning\n",
    "#feature_importances = pd.DataFrame(rf_clf_bal.feature_importances_,\n",
    "#                                   index = x_train.columns,\n",
    "#                                    columns=['importance']).sort_values('importance',ascending=False)\n",
    "feat_importances = pd.Series(rf_clf_bal.feature_importances_, index=x_train.columns)\n",
    "feat_importances.sort_values(ascending=False).head(10) \n",
    "                                  "
   ]
  }
 ],
 "metadata": {
  "colab": {
   "collapsed_sections": [],
   "name": "APM_individual.ipynb",
   "provenance": []
  },
  "kernelspec": {
   "display_name": "Python 3",
   "language": "python",
   "name": "python3"
  },
  "language_info": {
   "codemirror_mode": {
    "name": "ipython",
    "version": 3
   },
   "file_extension": ".py",
   "mimetype": "text/x-python",
   "name": "python",
   "nbconvert_exporter": "python",
   "pygments_lexer": "ipython3",
   "version": "3.7.3"
  }
 },
 "nbformat": 4,
 "nbformat_minor": 1
}
